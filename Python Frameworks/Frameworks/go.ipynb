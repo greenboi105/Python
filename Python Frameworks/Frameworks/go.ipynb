{
 "cells": [
  {
   "attachments": {},
   "cell_type": "markdown",
   "metadata": {},
   "source": [
    "# Graph Objects in Python\n",
    "\n",
    "The figures created, manipulated and rendered by the plotly Python library are represented by tree-like data structures which are automatically serialized to JSOn for rendering by the Plotly.js JavaScript library."
   ]
  },
  {
   "attachments": {},
   "cell_type": "markdown",
   "metadata": {},
   "source": [
    "## When to use Graph Objects vs Plotly Express \n",
    "\n",
    "The recommended way to create figures is using the functions in the plotly.express module, collectively known as Plotly Express, which all return instances of plotly.graph_objects.Figure, so every figure produced with the plotly library actually uses graph objects under the hood, unless manually constructed out of dictionaries."
   ]
  },
  {
   "cell_type": "markdown",
   "metadata": {},
   "source": []
  }
 ],
 "metadata": {
  "kernelspec": {
   "display_name": "base",
   "language": "python",
   "name": "python3"
  },
  "language_info": {
   "name": "python",
   "version": "3.9.16"
  },
  "orig_nbformat": 4,
  "vscode": {
   "interpreter": {
    "hash": "918b1ad3a855bcadeaeb6b6de2a9ab3a7081e096a2a1b924234c698ba578205e"
   }
  }
 },
 "nbformat": 4,
 "nbformat_minor": 2
}
