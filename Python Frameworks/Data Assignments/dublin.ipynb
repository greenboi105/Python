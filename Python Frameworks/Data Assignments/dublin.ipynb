{
 "cells": [
  {
   "attachments": {},
   "cell_type": "markdown",
   "metadata": {},
   "source": [
    "# Airbnb Dublin"
   ]
  },
  {
   "attachments": {},
   "cell_type": "markdown",
   "metadata": {},
   "source": [
    "### Assignment \n",
    "\n",
    "Airbnb wants to understand:\n",
    "\n",
    "* What guests are searching for in Dublin\n",
    "* Which inquiries do hosts tend to accept \n",
    "* What gaps exist between guest demand and host supply \n",
    "* Other information that deepens understanding of data"
   ]
  },
  {
   "cell_type": "code",
   "execution_count": 1,
   "metadata": {},
   "outputs": [],
   "source": [
    "import pandas as pd \n",
    "import numpy as np \n",
    "import seaborn as sns \n",
    "import matplotlib.pyplot as plt \n",
    "\n",
    "contacts = pd.read_csv(\"/Users/greenboi/ComputerScience/Python/Python Frameworks/Data Assignments/data/dublin/contacts.tsv\", sep='\\t')\n",
    "searches = pd.read_csv(\"/Users/greenboi/ComputerScience/Python/Python Frameworks/Data Assignments/data/dublin/searches.tsv\", sep='\\t')\n"
   ]
  },
  {
   "cell_type": "code",
   "execution_count": 2,
   "metadata": {},
   "outputs": [
    {
     "data": {
      "text/html": [
       "<div>\n",
       "<style scoped>\n",
       "    .dataframe tbody tr th:only-of-type {\n",
       "        vertical-align: middle;\n",
       "    }\n",
       "\n",
       "    .dataframe tbody tr th {\n",
       "        vertical-align: top;\n",
       "    }\n",
       "\n",
       "    .dataframe thead th {\n",
       "        text-align: right;\n",
       "    }\n",
       "</style>\n",
       "<table border=\"1\" class=\"dataframe\">\n",
       "  <thead>\n",
       "    <tr style=\"text-align: right;\">\n",
       "      <th></th>\n",
       "      <th>id_guest</th>\n",
       "      <th>id_host</th>\n",
       "      <th>id_listing</th>\n",
       "      <th>ts_contact_at</th>\n",
       "      <th>ts_reply_at</th>\n",
       "      <th>ts_accepted_at</th>\n",
       "      <th>ts_booking_at</th>\n",
       "      <th>ds_checkin</th>\n",
       "      <th>ds_checkout</th>\n",
       "      <th>n_guests</th>\n",
       "      <th>n_messages</th>\n",
       "    </tr>\n",
       "  </thead>\n",
       "  <tbody>\n",
       "    <tr>\n",
       "      <th>0</th>\n",
       "      <td>000dfad9-459b-4f0b-8310-3d6ab34e4f57</td>\n",
       "      <td>13bb24b8-d432-43a2-9755-5ea11b43bb69</td>\n",
       "      <td>21d2b1a2-fdc3-4b4c-a1f0-0eaf0cc02370</td>\n",
       "      <td>2014-10-04 16:26:28.0</td>\n",
       "      <td>2014-10-04 16:26:28.0</td>\n",
       "      <td>2014-10-04 16:26:28.0</td>\n",
       "      <td>2014-10-04 16:26:28.0</td>\n",
       "      <td>2014-10-13</td>\n",
       "      <td>2014-10-15</td>\n",
       "      <td>2</td>\n",
       "      <td>13</td>\n",
       "    </tr>\n",
       "    <tr>\n",
       "      <th>1</th>\n",
       "      <td>00197051-c6cb-4c3a-99e9-86615b819874</td>\n",
       "      <td>46aa3897-9c00-4d76-ac66-a307593d0675</td>\n",
       "      <td>fb5ed09a-9848-4f2c-b2ef-34deb62164fb</td>\n",
       "      <td>2014-11-04 09:10:03.0</td>\n",
       "      <td>2014-11-04 09:45:50.0</td>\n",
       "      <td>2014-11-04 09:45:50.0</td>\n",
       "      <td>2014-11-04 12:20:46.0</td>\n",
       "      <td>2014-11-27</td>\n",
       "      <td>2014-11-30</td>\n",
       "      <td>1</td>\n",
       "      <td>10</td>\n",
       "    </tr>\n",
       "    <tr>\n",
       "      <th>2</th>\n",
       "      <td>0027538e-aa9e-4a02-8979-b8397e5d4cba</td>\n",
       "      <td>6bbb88ca-db66-48c5-9c4b-862f7706284a</td>\n",
       "      <td>d3871da6-8012-4dc4-b508-c91f2c10c297</td>\n",
       "      <td>2014-10-10 12:02:50.0</td>\n",
       "      <td>2014-10-10 15:07:01.0</td>\n",
       "      <td>NaN</td>\n",
       "      <td>NaN</td>\n",
       "      <td>2014-10-17</td>\n",
       "      <td>2014-10-19</td>\n",
       "      <td>2</td>\n",
       "      <td>3</td>\n",
       "    </tr>\n",
       "    <tr>\n",
       "      <th>3</th>\n",
       "      <td>0027538e-aa9e-4a02-8979-b8397e5d4cba</td>\n",
       "      <td>8772bc85-a9b7-4d85-a52d-41f3620c2912</td>\n",
       "      <td>0d9b5583-8053-4b67-adfe-8c29eb12efed</td>\n",
       "      <td>2014-10-10 15:23:53.0</td>\n",
       "      <td>NaN</td>\n",
       "      <td>NaN</td>\n",
       "      <td>NaN</td>\n",
       "      <td>2014-10-17</td>\n",
       "      <td>2014-10-19</td>\n",
       "      <td>2</td>\n",
       "      <td>2</td>\n",
       "    </tr>\n",
       "    <tr>\n",
       "      <th>4</th>\n",
       "      <td>0027538e-aa9e-4a02-8979-b8397e5d4cba</td>\n",
       "      <td>ac162061-55e2-4072-ac91-2e080f9581f2</td>\n",
       "      <td>ec68e0af-b0f2-42c7-b6f8-d41061c083ff</td>\n",
       "      <td>2014-10-10 15:22:26.0</td>\n",
       "      <td>2014-10-10 15:24:26.0</td>\n",
       "      <td>2014-10-10 15:24:26.0</td>\n",
       "      <td>2014-10-10 15:52:42.0</td>\n",
       "      <td>2014-10-17</td>\n",
       "      <td>2014-10-19</td>\n",
       "      <td>2</td>\n",
       "      <td>14</td>\n",
       "    </tr>\n",
       "    <tr>\n",
       "      <th>...</th>\n",
       "      <td>...</td>\n",
       "      <td>...</td>\n",
       "      <td>...</td>\n",
       "      <td>...</td>\n",
       "      <td>...</td>\n",
       "      <td>...</td>\n",
       "      <td>...</td>\n",
       "      <td>...</td>\n",
       "      <td>...</td>\n",
       "      <td>...</td>\n",
       "      <td>...</td>\n",
       "    </tr>\n",
       "    <tr>\n",
       "      <th>7818</th>\n",
       "      <td>ffe366f0-6ab6-4e94-818a-c69c125fed3c</td>\n",
       "      <td>8be6bf94-aeb3-4a51-8ac4-db60baedfea1</td>\n",
       "      <td>7732bad8-e800-49f3-8751-e7604e3fb5a3</td>\n",
       "      <td>2014-10-07 21:43:00.0</td>\n",
       "      <td>2014-10-08 08:19:33.0</td>\n",
       "      <td>2014-10-08 08:19:33.0</td>\n",
       "      <td>NaN</td>\n",
       "      <td>2014-10-17</td>\n",
       "      <td>2014-10-20</td>\n",
       "      <td>2</td>\n",
       "      <td>5</td>\n",
       "    </tr>\n",
       "    <tr>\n",
       "      <th>7819</th>\n",
       "      <td>ffe366f0-6ab6-4e94-818a-c69c125fed3c</td>\n",
       "      <td>b92639c1-a5a8-48f6-8484-4fe6f62d1c6d</td>\n",
       "      <td>cc3a6bd4-d64f-4cbe-b947-c36c3851b487</td>\n",
       "      <td>2014-10-13 15:38:28.0</td>\n",
       "      <td>2014-10-13 15:44:56.0</td>\n",
       "      <td>NaN</td>\n",
       "      <td>NaN</td>\n",
       "      <td>2014-10-17</td>\n",
       "      <td>2014-10-20</td>\n",
       "      <td>2</td>\n",
       "      <td>5</td>\n",
       "    </tr>\n",
       "    <tr>\n",
       "      <th>7820</th>\n",
       "      <td>ffe366f0-6ab6-4e94-818a-c69c125fed3c</td>\n",
       "      <td>d0b6d89a-4379-43f2-9560-4943df5b8f4f</td>\n",
       "      <td>6e5b4380-66d2-4f2a-8f89-d2794598997d</td>\n",
       "      <td>2014-10-13 15:40:49.0</td>\n",
       "      <td>2014-10-13 15:42:46.0</td>\n",
       "      <td>NaN</td>\n",
       "      <td>NaN</td>\n",
       "      <td>2014-10-17</td>\n",
       "      <td>2014-10-20</td>\n",
       "      <td>2</td>\n",
       "      <td>3</td>\n",
       "    </tr>\n",
       "    <tr>\n",
       "      <th>7821</th>\n",
       "      <td>ffe366f0-6ab6-4e94-818a-c69c125fed3c</td>\n",
       "      <td>f86bc9ab-e199-4254-8609-fd67d6aaed42</td>\n",
       "      <td>28caf371-6d1d-4e06-aaf1-e660966ac7a1</td>\n",
       "      <td>2014-10-07 21:30:31.0</td>\n",
       "      <td>2014-10-08 19:04:43.0</td>\n",
       "      <td>NaN</td>\n",
       "      <td>NaN</td>\n",
       "      <td>2014-10-17</td>\n",
       "      <td>2014-10-20</td>\n",
       "      <td>2</td>\n",
       "      <td>2</td>\n",
       "    </tr>\n",
       "    <tr>\n",
       "      <th>7822</th>\n",
       "      <td>fffea166-9432-43a7-8b1b-09d6f30c1c07</td>\n",
       "      <td>6d656267-642e-4972-bdec-a35d82b84ebb</td>\n",
       "      <td>90dddef6-23ef-4df3-b454-8fd3d0e8cade</td>\n",
       "      <td>2014-10-08 00:05:05.0</td>\n",
       "      <td>2014-10-12 20:58:12.0</td>\n",
       "      <td>NaN</td>\n",
       "      <td>NaN</td>\n",
       "      <td>2014-11-11</td>\n",
       "      <td>2014-11-18</td>\n",
       "      <td>2</td>\n",
       "      <td>2</td>\n",
       "    </tr>\n",
       "  </tbody>\n",
       "</table>\n",
       "<p>7823 rows × 11 columns</p>\n",
       "</div>"
      ],
      "text/plain": [
       "                                  id_guest  \\\n",
       "0     000dfad9-459b-4f0b-8310-3d6ab34e4f57   \n",
       "1     00197051-c6cb-4c3a-99e9-86615b819874   \n",
       "2     0027538e-aa9e-4a02-8979-b8397e5d4cba   \n",
       "3     0027538e-aa9e-4a02-8979-b8397e5d4cba   \n",
       "4     0027538e-aa9e-4a02-8979-b8397e5d4cba   \n",
       "...                                    ...   \n",
       "7818  ffe366f0-6ab6-4e94-818a-c69c125fed3c   \n",
       "7819  ffe366f0-6ab6-4e94-818a-c69c125fed3c   \n",
       "7820  ffe366f0-6ab6-4e94-818a-c69c125fed3c   \n",
       "7821  ffe366f0-6ab6-4e94-818a-c69c125fed3c   \n",
       "7822  fffea166-9432-43a7-8b1b-09d6f30c1c07   \n",
       "\n",
       "                                   id_host  \\\n",
       "0     13bb24b8-d432-43a2-9755-5ea11b43bb69   \n",
       "1     46aa3897-9c00-4d76-ac66-a307593d0675   \n",
       "2     6bbb88ca-db66-48c5-9c4b-862f7706284a   \n",
       "3     8772bc85-a9b7-4d85-a52d-41f3620c2912   \n",
       "4     ac162061-55e2-4072-ac91-2e080f9581f2   \n",
       "...                                    ...   \n",
       "7818  8be6bf94-aeb3-4a51-8ac4-db60baedfea1   \n",
       "7819  b92639c1-a5a8-48f6-8484-4fe6f62d1c6d   \n",
       "7820  d0b6d89a-4379-43f2-9560-4943df5b8f4f   \n",
       "7821  f86bc9ab-e199-4254-8609-fd67d6aaed42   \n",
       "7822  6d656267-642e-4972-bdec-a35d82b84ebb   \n",
       "\n",
       "                                id_listing          ts_contact_at  \\\n",
       "0     21d2b1a2-fdc3-4b4c-a1f0-0eaf0cc02370  2014-10-04 16:26:28.0   \n",
       "1     fb5ed09a-9848-4f2c-b2ef-34deb62164fb  2014-11-04 09:10:03.0   \n",
       "2     d3871da6-8012-4dc4-b508-c91f2c10c297  2014-10-10 12:02:50.0   \n",
       "3     0d9b5583-8053-4b67-adfe-8c29eb12efed  2014-10-10 15:23:53.0   \n",
       "4     ec68e0af-b0f2-42c7-b6f8-d41061c083ff  2014-10-10 15:22:26.0   \n",
       "...                                    ...                    ...   \n",
       "7818  7732bad8-e800-49f3-8751-e7604e3fb5a3  2014-10-07 21:43:00.0   \n",
       "7819  cc3a6bd4-d64f-4cbe-b947-c36c3851b487  2014-10-13 15:38:28.0   \n",
       "7820  6e5b4380-66d2-4f2a-8f89-d2794598997d  2014-10-13 15:40:49.0   \n",
       "7821  28caf371-6d1d-4e06-aaf1-e660966ac7a1  2014-10-07 21:30:31.0   \n",
       "7822  90dddef6-23ef-4df3-b454-8fd3d0e8cade  2014-10-08 00:05:05.0   \n",
       "\n",
       "                ts_reply_at         ts_accepted_at          ts_booking_at  \\\n",
       "0     2014-10-04 16:26:28.0  2014-10-04 16:26:28.0  2014-10-04 16:26:28.0   \n",
       "1     2014-11-04 09:45:50.0  2014-11-04 09:45:50.0  2014-11-04 12:20:46.0   \n",
       "2     2014-10-10 15:07:01.0                    NaN                    NaN   \n",
       "3                       NaN                    NaN                    NaN   \n",
       "4     2014-10-10 15:24:26.0  2014-10-10 15:24:26.0  2014-10-10 15:52:42.0   \n",
       "...                     ...                    ...                    ...   \n",
       "7818  2014-10-08 08:19:33.0  2014-10-08 08:19:33.0                    NaN   \n",
       "7819  2014-10-13 15:44:56.0                    NaN                    NaN   \n",
       "7820  2014-10-13 15:42:46.0                    NaN                    NaN   \n",
       "7821  2014-10-08 19:04:43.0                    NaN                    NaN   \n",
       "7822  2014-10-12 20:58:12.0                    NaN                    NaN   \n",
       "\n",
       "      ds_checkin ds_checkout  n_guests  n_messages  \n",
       "0     2014-10-13  2014-10-15         2          13  \n",
       "1     2014-11-27  2014-11-30         1          10  \n",
       "2     2014-10-17  2014-10-19         2           3  \n",
       "3     2014-10-17  2014-10-19         2           2  \n",
       "4     2014-10-17  2014-10-19         2          14  \n",
       "...          ...         ...       ...         ...  \n",
       "7818  2014-10-17  2014-10-20         2           5  \n",
       "7819  2014-10-17  2014-10-20         2           5  \n",
       "7820  2014-10-17  2014-10-20         2           3  \n",
       "7821  2014-10-17  2014-10-20         2           2  \n",
       "7822  2014-11-11  2014-11-18         2           2  \n",
       "\n",
       "[7823 rows x 11 columns]"
      ]
     },
     "execution_count": 2,
     "metadata": {},
     "output_type": "execute_result"
    }
   ],
   "source": [
    "contacts"
   ]
  },
  {
   "cell_type": "code",
   "execution_count": 3,
   "metadata": {},
   "outputs": [
    {
     "data": {
      "text/html": [
       "<div>\n",
       "<style scoped>\n",
       "    .dataframe tbody tr th:only-of-type {\n",
       "        vertical-align: middle;\n",
       "    }\n",
       "\n",
       "    .dataframe tbody tr th {\n",
       "        vertical-align: top;\n",
       "    }\n",
       "\n",
       "    .dataframe thead th {\n",
       "        text-align: right;\n",
       "    }\n",
       "</style>\n",
       "<table border=\"1\" class=\"dataframe\">\n",
       "  <thead>\n",
       "    <tr style=\"text-align: right;\">\n",
       "      <th></th>\n",
       "      <th>ds</th>\n",
       "      <th>id_user</th>\n",
       "      <th>ds_checkin</th>\n",
       "      <th>ds_checkout</th>\n",
       "      <th>n_searches</th>\n",
       "      <th>n_nights</th>\n",
       "      <th>n_guests_min</th>\n",
       "      <th>n_guests_max</th>\n",
       "      <th>origin_country</th>\n",
       "      <th>filter_price_min</th>\n",
       "      <th>filter_price_max</th>\n",
       "      <th>filter_room_types</th>\n",
       "      <th>filter_neighborhoods</th>\n",
       "    </tr>\n",
       "  </thead>\n",
       "  <tbody>\n",
       "    <tr>\n",
       "      <th>0</th>\n",
       "      <td>2014-10-01</td>\n",
       "      <td>0000af0a-6f26-4233-9832-27efbfb36148</td>\n",
       "      <td>2014-10-09</td>\n",
       "      <td>2014-10-12</td>\n",
       "      <td>16</td>\n",
       "      <td>3.0</td>\n",
       "      <td>2</td>\n",
       "      <td>2</td>\n",
       "      <td>IE</td>\n",
       "      <td>0.0</td>\n",
       "      <td>6.700000e+01</td>\n",
       "      <td>,Entire home/apt,Entire home/apt,Private room,...</td>\n",
       "      <td>NaN</td>\n",
       "    </tr>\n",
       "    <tr>\n",
       "      <th>1</th>\n",
       "      <td>2014-10-01</td>\n",
       "      <td>0000af0a-6f26-4233-9832-27efbfb36148</td>\n",
       "      <td>2014-10-09</td>\n",
       "      <td>2014-10-19</td>\n",
       "      <td>3</td>\n",
       "      <td>10.0</td>\n",
       "      <td>1</td>\n",
       "      <td>2</td>\n",
       "      <td>IE</td>\n",
       "      <td>0.0</td>\n",
       "      <td>6.700000e+01</td>\n",
       "      <td>NaN</td>\n",
       "      <td>NaN</td>\n",
       "    </tr>\n",
       "    <tr>\n",
       "      <th>2</th>\n",
       "      <td>2014-10-01</td>\n",
       "      <td>000cd9d3-e05b-4016-9e09-34a6f8ba2fc5</td>\n",
       "      <td>NaN</td>\n",
       "      <td>NaN</td>\n",
       "      <td>1</td>\n",
       "      <td>NaN</td>\n",
       "      <td>1</td>\n",
       "      <td>1</td>\n",
       "      <td>GB</td>\n",
       "      <td>NaN</td>\n",
       "      <td>NaN</td>\n",
       "      <td>NaN</td>\n",
       "      <td>NaN</td>\n",
       "    </tr>\n",
       "    <tr>\n",
       "      <th>3</th>\n",
       "      <td>2014-10-01</td>\n",
       "      <td>000cd9d3-e05b-4016-9e09-34a6f8ba2fc5</td>\n",
       "      <td>2014-11-08</td>\n",
       "      <td>2014-11-10</td>\n",
       "      <td>11</td>\n",
       "      <td>2.0</td>\n",
       "      <td>1</td>\n",
       "      <td>2</td>\n",
       "      <td>GB</td>\n",
       "      <td>NaN</td>\n",
       "      <td>NaN</td>\n",
       "      <td>,Entire home/apt</td>\n",
       "      <td>NaN</td>\n",
       "    </tr>\n",
       "    <tr>\n",
       "      <th>4</th>\n",
       "      <td>2014-10-01</td>\n",
       "      <td>001c04f0-5a94-4ee0-bf5d-3591265256de</td>\n",
       "      <td>NaN</td>\n",
       "      <td>NaN</td>\n",
       "      <td>1</td>\n",
       "      <td>NaN</td>\n",
       "      <td>1</td>\n",
       "      <td>1</td>\n",
       "      <td>IE</td>\n",
       "      <td>NaN</td>\n",
       "      <td>NaN</td>\n",
       "      <td>NaN</td>\n",
       "      <td>NaN</td>\n",
       "    </tr>\n",
       "    <tr>\n",
       "      <th>...</th>\n",
       "      <td>...</td>\n",
       "      <td>...</td>\n",
       "      <td>...</td>\n",
       "      <td>...</td>\n",
       "      <td>...</td>\n",
       "      <td>...</td>\n",
       "      <td>...</td>\n",
       "      <td>...</td>\n",
       "      <td>...</td>\n",
       "      <td>...</td>\n",
       "      <td>...</td>\n",
       "      <td>...</td>\n",
       "      <td>...</td>\n",
       "    </tr>\n",
       "    <tr>\n",
       "      <th>35732</th>\n",
       "      <td>2014-10-14</td>\n",
       "      <td>ff3c92ed-ebea-4691-a808-cc6fb73f2f55</td>\n",
       "      <td>NaN</td>\n",
       "      <td>NaN</td>\n",
       "      <td>3</td>\n",
       "      <td>NaN</td>\n",
       "      <td>2</td>\n",
       "      <td>2</td>\n",
       "      <td>US</td>\n",
       "      <td>0.0</td>\n",
       "      <td>1.000000e+02</td>\n",
       "      <td>Entire home/apt</td>\n",
       "      <td>NaN</td>\n",
       "    </tr>\n",
       "    <tr>\n",
       "      <th>35733</th>\n",
       "      <td>2014-10-14</td>\n",
       "      <td>ff61875b-1d27-4ee4-bd4e-36671d3bfed4</td>\n",
       "      <td>NaN</td>\n",
       "      <td>NaN</td>\n",
       "      <td>2</td>\n",
       "      <td>NaN</td>\n",
       "      <td>1</td>\n",
       "      <td>1</td>\n",
       "      <td>US</td>\n",
       "      <td>NaN</td>\n",
       "      <td>NaN</td>\n",
       "      <td>NaN</td>\n",
       "      <td>NaN</td>\n",
       "    </tr>\n",
       "    <tr>\n",
       "      <th>35734</th>\n",
       "      <td>2014-10-14</td>\n",
       "      <td>ff946a14-777b-4597-91b2-3277921214cd</td>\n",
       "      <td>2014-11-03</td>\n",
       "      <td>2014-11-06</td>\n",
       "      <td>10</td>\n",
       "      <td>3.0</td>\n",
       "      <td>1</td>\n",
       "      <td>3</td>\n",
       "      <td>IL</td>\n",
       "      <td>NaN</td>\n",
       "      <td>NaN</td>\n",
       "      <td>Entire home/apt</td>\n",
       "      <td>NaN</td>\n",
       "    </tr>\n",
       "    <tr>\n",
       "      <th>35735</th>\n",
       "      <td>2014-10-14</td>\n",
       "      <td>ffc681d4-3668-4448-af38-6f73bc9fb89d</td>\n",
       "      <td>NaN</td>\n",
       "      <td>NaN</td>\n",
       "      <td>5</td>\n",
       "      <td>NaN</td>\n",
       "      <td>1</td>\n",
       "      <td>1</td>\n",
       "      <td>IE</td>\n",
       "      <td>0.0</td>\n",
       "      <td>4.850000e+02</td>\n",
       "      <td>NaN</td>\n",
       "      <td>NaN</td>\n",
       "    </tr>\n",
       "    <tr>\n",
       "      <th>35736</th>\n",
       "      <td>2014-10-14</td>\n",
       "      <td>ffe0f0c3-f8e3-418e-82e5-3a29fdd183bd</td>\n",
       "      <td>NaN</td>\n",
       "      <td>NaN</td>\n",
       "      <td>3</td>\n",
       "      <td>NaN</td>\n",
       "      <td>1</td>\n",
       "      <td>1</td>\n",
       "      <td>US</td>\n",
       "      <td>480.0</td>\n",
       "      <td>1.073742e+09</td>\n",
       "      <td>,Entire home/apt</td>\n",
       "      <td>NaN</td>\n",
       "    </tr>\n",
       "  </tbody>\n",
       "</table>\n",
       "<p>35737 rows × 13 columns</p>\n",
       "</div>"
      ],
      "text/plain": [
       "               ds                               id_user  ds_checkin  \\\n",
       "0      2014-10-01  0000af0a-6f26-4233-9832-27efbfb36148  2014-10-09   \n",
       "1      2014-10-01  0000af0a-6f26-4233-9832-27efbfb36148  2014-10-09   \n",
       "2      2014-10-01  000cd9d3-e05b-4016-9e09-34a6f8ba2fc5         NaN   \n",
       "3      2014-10-01  000cd9d3-e05b-4016-9e09-34a6f8ba2fc5  2014-11-08   \n",
       "4      2014-10-01  001c04f0-5a94-4ee0-bf5d-3591265256de         NaN   \n",
       "...           ...                                   ...         ...   \n",
       "35732  2014-10-14  ff3c92ed-ebea-4691-a808-cc6fb73f2f55         NaN   \n",
       "35733  2014-10-14  ff61875b-1d27-4ee4-bd4e-36671d3bfed4         NaN   \n",
       "35734  2014-10-14  ff946a14-777b-4597-91b2-3277921214cd  2014-11-03   \n",
       "35735  2014-10-14  ffc681d4-3668-4448-af38-6f73bc9fb89d         NaN   \n",
       "35736  2014-10-14  ffe0f0c3-f8e3-418e-82e5-3a29fdd183bd         NaN   \n",
       "\n",
       "      ds_checkout  n_searches  n_nights  n_guests_min  n_guests_max  \\\n",
       "0      2014-10-12          16       3.0             2             2   \n",
       "1      2014-10-19           3      10.0             1             2   \n",
       "2             NaN           1       NaN             1             1   \n",
       "3      2014-11-10          11       2.0             1             2   \n",
       "4             NaN           1       NaN             1             1   \n",
       "...           ...         ...       ...           ...           ...   \n",
       "35732         NaN           3       NaN             2             2   \n",
       "35733         NaN           2       NaN             1             1   \n",
       "35734  2014-11-06          10       3.0             1             3   \n",
       "35735         NaN           5       NaN             1             1   \n",
       "35736         NaN           3       NaN             1             1   \n",
       "\n",
       "      origin_country  filter_price_min  filter_price_max  \\\n",
       "0                 IE               0.0      6.700000e+01   \n",
       "1                 IE               0.0      6.700000e+01   \n",
       "2                 GB               NaN               NaN   \n",
       "3                 GB               NaN               NaN   \n",
       "4                 IE               NaN               NaN   \n",
       "...              ...               ...               ...   \n",
       "35732             US               0.0      1.000000e+02   \n",
       "35733             US               NaN               NaN   \n",
       "35734             IL               NaN               NaN   \n",
       "35735             IE               0.0      4.850000e+02   \n",
       "35736             US             480.0      1.073742e+09   \n",
       "\n",
       "                                       filter_room_types filter_neighborhoods  \n",
       "0      ,Entire home/apt,Entire home/apt,Private room,...                  NaN  \n",
       "1                                                    NaN                  NaN  \n",
       "2                                                    NaN                  NaN  \n",
       "3                                       ,Entire home/apt                  NaN  \n",
       "4                                                    NaN                  NaN  \n",
       "...                                                  ...                  ...  \n",
       "35732                                    Entire home/apt                  NaN  \n",
       "35733                                                NaN                  NaN  \n",
       "35734                                    Entire home/apt                  NaN  \n",
       "35735                                                NaN                  NaN  \n",
       "35736                                   ,Entire home/apt                  NaN  \n",
       "\n",
       "[35737 rows x 13 columns]"
      ]
     },
     "execution_count": 3,
     "metadata": {},
     "output_type": "execute_result"
    }
   ],
   "source": [
    "searches"
   ]
  },
  {
   "cell_type": "code",
   "execution_count": 4,
   "metadata": {},
   "outputs": [
    {
     "data": {
      "text/plain": [
       "id_guest          0.000000\n",
       "id_host           0.000000\n",
       "id_listing        0.000000\n",
       "ts_contact_at     0.000000\n",
       "ts_reply_at       0.077208\n",
       "ts_accepted_at    0.536367\n",
       "ts_booking_at     0.722101\n",
       "ds_checkin        0.000000\n",
       "ds_checkout       0.000000\n",
       "n_guests          0.000000\n",
       "n_messages        0.000000\n",
       "dtype: float64"
      ]
     },
     "execution_count": 4,
     "metadata": {},
     "output_type": "execute_result"
    }
   ],
   "source": [
    "contacts.isna().sum()/len(contacts)"
   ]
  },
  {
   "cell_type": "code",
   "execution_count": 5,
   "metadata": {},
   "outputs": [
    {
     "data": {
      "text/plain": [
       "ds                      0.000000\n",
       "id_user                 0.000000\n",
       "ds_checkin              0.331561\n",
       "ds_checkout             0.331561\n",
       "n_searches              0.000000\n",
       "n_nights                0.331561\n",
       "n_guests_min            0.000000\n",
       "n_guests_max            0.000000\n",
       "origin_country          0.000000\n",
       "filter_price_min        0.627221\n",
       "filter_price_max        0.627221\n",
       "filter_room_types       0.546940\n",
       "filter_neighborhoods    0.962336\n",
       "dtype: float64"
      ]
     },
     "execution_count": 5,
     "metadata": {},
     "output_type": "execute_result"
    }
   ],
   "source": [
    "searches.isna().sum()/len(searches)"
   ]
  },
  {
   "cell_type": "code",
   "execution_count": 6,
   "metadata": {},
   "outputs": [],
   "source": [
    "searches = searches.drop(columns=['filter_neighborhoods'])"
   ]
  },
  {
   "cell_type": "code",
   "execution_count": 7,
   "metadata": {},
   "outputs": [
    {
     "data": {
      "text/plain": [
       "ds                    object\n",
       "id_user               object\n",
       "ds_checkin            object\n",
       "ds_checkout           object\n",
       "n_searches             int64\n",
       "n_nights             float64\n",
       "n_guests_min           int64\n",
       "n_guests_max           int64\n",
       "origin_country        object\n",
       "filter_price_min     float64\n",
       "filter_price_max     float64\n",
       "filter_room_types     object\n",
       "dtype: object"
      ]
     },
     "execution_count": 7,
     "metadata": {},
     "output_type": "execute_result"
    }
   ],
   "source": [
    "searches.dtypes"
   ]
  },
  {
   "attachments": {},
   "cell_type": "markdown",
   "metadata": {},
   "source": [
    "The date columns (ds, ds_checkin, ds_checkout) are object types. These columns can be converted to DateTime type for easier manipulation."
   ]
  },
  {
   "cell_type": "code",
   "execution_count": 8,
   "metadata": {},
   "outputs": [],
   "source": [
    "searches['ds'] = pd.to_datetime(searches['ds'])\n",
    "searches['ds_checkin'] = pd.to_datetime(searches['ds_checkin'])\n",
    "searches['ds_checkout'] = pd.to_datetime(searches['ds_checkout'])\n",
    "\n",
    "searches['length_preperation'] = searches['ds_checkin'] - searches['ds']"
   ]
  },
  {
   "cell_type": "code",
   "execution_count": 9,
   "metadata": {},
   "outputs": [
    {
     "data": {
      "text/html": [
       "<div>\n",
       "<style scoped>\n",
       "    .dataframe tbody tr th:only-of-type {\n",
       "        vertical-align: middle;\n",
       "    }\n",
       "\n",
       "    .dataframe tbody tr th {\n",
       "        vertical-align: top;\n",
       "    }\n",
       "\n",
       "    .dataframe thead th {\n",
       "        text-align: right;\n",
       "    }\n",
       "</style>\n",
       "<table border=\"1\" class=\"dataframe\">\n",
       "  <thead>\n",
       "    <tr style=\"text-align: right;\">\n",
       "      <th></th>\n",
       "      <th>n_searches</th>\n",
       "      <th>n_nights</th>\n",
       "      <th>n_guests_min</th>\n",
       "      <th>n_guests_max</th>\n",
       "      <th>filter_price_min</th>\n",
       "      <th>filter_price_max</th>\n",
       "      <th>length_preperation</th>\n",
       "    </tr>\n",
       "  </thead>\n",
       "  <tbody>\n",
       "    <tr>\n",
       "      <th>count</th>\n",
       "      <td>35737.000000</td>\n",
       "      <td>23888.000000</td>\n",
       "      <td>35737.000000</td>\n",
       "      <td>35737.000000</td>\n",
       "      <td>13322.000000</td>\n",
       "      <td>1.332200e+04</td>\n",
       "      <td>23888</td>\n",
       "    </tr>\n",
       "    <tr>\n",
       "      <th>mean</th>\n",
       "      <td>9.206565</td>\n",
       "      <td>7.672765</td>\n",
       "      <td>1.742955</td>\n",
       "      <td>2.105857</td>\n",
       "      <td>8.470200</td>\n",
       "      <td>9.019063e+07</td>\n",
       "      <td>51 days 08:11:53.730743469</td>\n",
       "    </tr>\n",
       "    <tr>\n",
       "      <th>std</th>\n",
       "      <td>17.348746</td>\n",
       "      <td>21.557614</td>\n",
       "      <td>1.460440</td>\n",
       "      <td>1.817358</td>\n",
       "      <td>53.987679</td>\n",
       "      <td>2.978482e+08</td>\n",
       "      <td>65 days 18:56:19.491940518</td>\n",
       "    </tr>\n",
       "    <tr>\n",
       "      <th>min</th>\n",
       "      <td>1.000000</td>\n",
       "      <td>0.000000</td>\n",
       "      <td>1.000000</td>\n",
       "      <td>1.000000</td>\n",
       "      <td>0.000000</td>\n",
       "      <td>9.000000e+00</td>\n",
       "      <td>-1 days +00:00:00</td>\n",
       "    </tr>\n",
       "    <tr>\n",
       "      <th>25%</th>\n",
       "      <td>1.000000</td>\n",
       "      <td>2.000000</td>\n",
       "      <td>1.000000</td>\n",
       "      <td>1.000000</td>\n",
       "      <td>0.000000</td>\n",
       "      <td>8.600000e+01</td>\n",
       "      <td>10 days 00:00:00</td>\n",
       "    </tr>\n",
       "    <tr>\n",
       "      <th>50%</th>\n",
       "      <td>4.000000</td>\n",
       "      <td>3.000000</td>\n",
       "      <td>1.000000</td>\n",
       "      <td>2.000000</td>\n",
       "      <td>0.000000</td>\n",
       "      <td>1.390000e+02</td>\n",
       "      <td>26 days 00:00:00</td>\n",
       "    </tr>\n",
       "    <tr>\n",
       "      <th>75%</th>\n",
       "      <td>10.000000</td>\n",
       "      <td>5.000000</td>\n",
       "      <td>2.000000</td>\n",
       "      <td>2.000000</td>\n",
       "      <td>0.000000</td>\n",
       "      <td>3.010000e+02</td>\n",
       "      <td>67 days 00:00:00</td>\n",
       "    </tr>\n",
       "    <tr>\n",
       "      <th>max</th>\n",
       "      <td>448.000000</td>\n",
       "      <td>399.000000</td>\n",
       "      <td>16.000000</td>\n",
       "      <td>16.000000</td>\n",
       "      <td>1250.000000</td>\n",
       "      <td>1.073742e+09</td>\n",
       "      <td>604 days 00:00:00</td>\n",
       "    </tr>\n",
       "  </tbody>\n",
       "</table>\n",
       "</div>"
      ],
      "text/plain": [
       "         n_searches      n_nights  n_guests_min  n_guests_max  \\\n",
       "count  35737.000000  23888.000000  35737.000000  35737.000000   \n",
       "mean       9.206565      7.672765      1.742955      2.105857   \n",
       "std       17.348746     21.557614      1.460440      1.817358   \n",
       "min        1.000000      0.000000      1.000000      1.000000   \n",
       "25%        1.000000      2.000000      1.000000      1.000000   \n",
       "50%        4.000000      3.000000      1.000000      2.000000   \n",
       "75%       10.000000      5.000000      2.000000      2.000000   \n",
       "max      448.000000    399.000000     16.000000     16.000000   \n",
       "\n",
       "       filter_price_min  filter_price_max          length_preperation  \n",
       "count      13322.000000      1.332200e+04                       23888  \n",
       "mean           8.470200      9.019063e+07  51 days 08:11:53.730743469  \n",
       "std           53.987679      2.978482e+08  65 days 18:56:19.491940518  \n",
       "min            0.000000      9.000000e+00           -1 days +00:00:00  \n",
       "25%            0.000000      8.600000e+01            10 days 00:00:00  \n",
       "50%            0.000000      1.390000e+02            26 days 00:00:00  \n",
       "75%            0.000000      3.010000e+02            67 days 00:00:00  \n",
       "max         1250.000000      1.073742e+09           604 days 00:00:00  "
      ]
     },
     "execution_count": 9,
     "metadata": {},
     "output_type": "execute_result"
    }
   ],
   "source": [
    "searches.describe()"
   ]
  },
  {
   "attachments": {},
   "cell_type": "markdown",
   "metadata": {},
   "source": [
    "We can see that the number of guests is usually 1 or 2. \n",
    "\n",
    "We also want to calculate the skewness of the dataset. Skewness is where the distribution of values leans towards a specific side from the normal distribution. "
   ]
  },
  {
   "cell_type": "code",
   "execution_count": 10,
   "metadata": {},
   "outputs": [
    {
     "data": {
      "text/plain": [
       "n_searches           7.509258\n",
       "n_nights             9.942364\n",
       "n_guests_min         3.583798\n",
       "n_guests_max         3.148548\n",
       "filter_price_min    11.087745\n",
       "filter_price_max     2.999833\n",
       "dtype: float64"
      ]
     },
     "execution_count": 10,
     "metadata": {},
     "output_type": "execute_result"
    }
   ],
   "source": [
    "searches.skew(axis=0, numeric_only=True, skipna=True)"
   ]
  },
  {
   "cell_type": "code",
   "execution_count": 11,
   "metadata": {},
   "outputs": [
    {
     "data": {
      "image/png": "[encoded data removed]",
      "text/plain": [
       "<Figure size 500x500 with 1 Axes>"
      ]
     },
     "metadata": {},
     "output_type": "display_data"
    },
    {
     "data": {
      "image/png": "[encoded data removed]",
      "text/plain": [
       "<Figure size 500x500 with 1 Axes>"
      ]
     },
     "metadata": {},
     "output_type": "display_data"
    }
   ],
   "source": [
    "sns.displot(searches, x='n_guests_min', color='blue')\n",
    "sns.displot(searches, x='n_guests_max', color='black')\n",
    "plt.show()\n"
   ]
  },
  {
   "cell_type": "code",
   "execution_count": 12,
   "metadata": {},
   "outputs": [
    {
     "data": {
      "text/plain": [
       "[[None,\n",
       "  None,\n",
       "  None,\n",
       "  None,\n",
       "  None,\n",
       "  None,\n",
       "  None,\n",
       "  None,\n",
       "  None,\n",
       "  None,\n",
       "  None,\n",
       "  None,\n",
       "  None,\n",
       "  None]]"
      ]
     },
     "execution_count": 12,
     "metadata": {},
     "output_type": "execute_result"
    },
    {
     "data": {
      "image/png": "[encoded data removed]",
      "text/plain": [
       "<Figure size 500x500 with 1 Axes>"
      ]
     },
     "metadata": {},
     "output_type": "display_data"
    }
   ],
   "source": [
    "ax = sns.displot(searches, x='ds', color='gray')\n",
    "[plt.setp(ax.get_xticklabels(), rotation=90) for ax in ax.axes.flat]"
   ]
  },
  {
   "cell_type": "code",
   "execution_count": 13,
   "metadata": {},
   "outputs": [
    {
     "name": "stdout",
     "output_type": "stream",
     "text": [
      "5.311022189887232 %\n"
     ]
    }
   ],
   "source": [
    "# NOTE: Percentage of a dataset with a filter_price_max above 600 \n",
    "print(len(searches[searches['filter_price_max'] > 600]) / len(searches['filter_price_max']) * 100, '%')"
   ]
  },
  {
   "cell_type": "code",
   "execution_count": 14,
   "metadata": {},
   "outputs": [
    {
     "data": {
      "image/png": "[encoded data removed]",
      "text/plain": [
       "<Figure size 500x500 with 1 Axes>"
      ]
     },
     "metadata": {},
     "output_type": "display_data"
    }
   ],
   "source": [
    "searches_maxprice_removed = searches[searches['filter_price_max'] <= 600]\n",
    "\n",
    "sns.displot(x=searches_maxprice_removed['filter_price_max'], color='blue')\n",
    "plt.show()"
   ]
  },
  {
   "attachments": {},
   "cell_type": "markdown",
   "metadata": {},
   "source": [
    "Most people want to search for a room below $200 per night with most searches occurring aroung $100 per night. \n",
    "\n",
    "Let's consider how soon people want rooms when booking. "
   ]
  },
  {
   "cell_type": "code",
   "execution_count": 16,
   "metadata": {},
   "outputs": [
    {
     "name": "stdout",
     "output_type": "stream",
     "text": [
      "9.396423874415872 % \n",
      "\n"
     ]
    },
    {
     "data": {
      "image/png": "[encoded data removed]",
      "text/plain": [
       "<Figure size 500x500 with 1 Axes>"
      ]
     },
     "metadata": {},
     "output_type": "display_data"
    }
   ],
   "source": [
    "# NOTE: Percentage of dataset beyond 100 days \n",
    "distribution = searches['length_preperation'] / np.timedelta64(1, 'D')\n",
    "print(len(distribution[distribution > 100]) / len(distribution) * 100, '% \\n')\n",
    "\n",
    "# NOTE: Remove values beyond 100 days \n",
    "distribution = distribution[distribution < 100]\n",
    "\n",
    "# NOTE: Distribution plot of length_preperation column \n",
    "sns.displot(x=distribution, color = 'lightgreen')\n",
    "plt.show()"
   ]
  },
  {
   "attachments": {},
   "cell_type": "markdown",
   "metadata": {},
   "source": [
    "We now consider the number of nights people want to stay."
   ]
  },
  {
   "cell_type": "code",
   "execution_count": 18,
   "metadata": {},
   "outputs": [
    {
     "name": "stdout",
     "output_type": "stream",
     "text": [
      "4.737387021854101 % \n",
      "\n"
     ]
    },
    {
     "data": {
      "image/png": "[encoded data removed]",
      "text/plain": [
       "<Figure size 500x500 with 1 Axes>"
      ]
     },
     "metadata": {},
     "output_type": "display_data"
    }
   ],
   "source": [
    "# NOTE: Distribution of n_nights of searches \n",
    "\n",
    "# NOTE: Percentage of dataset beyond 20 nights \n",
    "print(len(searches[searches['n_nights'] > 20]) / len(searches['n_nights']) * 100, '% \\n')\n",
    "\n",
    "# NOTE: Remove n_nights beyond 20 days \n",
    "searches_within_twenty = searches[searches['n_nights'] < 20]\n",
    "\n",
    "# NOTE: Distribution plot of length_preperation column \n",
    "sns.displot(searches_within_twenty, x='n_nights', color='red')\n",
    "plt.show()"
   ]
  },
  {
   "cell_type": "code",
   "execution_count": null,
   "metadata": {},
   "outputs": [],
   "source": []
  }
 ],
 "metadata": {
  "kernelspec": {
   "display_name": "base",
   "language": "python",
   "name": "python3"
  },
  "language_info": {
   "codemirror_mode": {
    "name": "ipython",
    "version": 3
   },
   "file_extension": ".py",
   "mimetype": "text/x-python",
   "name": "python",
   "nbconvert_exporter": "python",
   "pygments_lexer": "ipython3",
   "version": "3.9.16"
  },
  "orig_nbformat": 4
 },
 "nbformat": 4,
 "nbformat_minor": 2
}
