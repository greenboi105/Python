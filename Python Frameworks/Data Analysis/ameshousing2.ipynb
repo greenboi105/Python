{
 "cells": [
  {
   "attachments": {},
   "cell_type": "markdown",
   "metadata": {},
   "source": [
    "# Regularized Linear Models "
   ]
  },
  {
   "cell_type": "code",
   "execution_count": 1,
   "metadata": {},
   "outputs": [],
   "source": [
    "import pandas as pd\n",
    "import numpy as np\n",
    "import seaborn as sns\n",
    "import matplotlib\n",
    "import plotly.express as px\n",
    "\n",
    "import matplotlib.pyplot as plt\n",
    "from scipy.stats import skew\n",
    "from scipy.stats.stats import pearsonr\n"
   ]
  },
  {
   "cell_type": "code",
   "execution_count": 4,
   "metadata": {},
   "outputs": [],
   "source": [
    "train = pd.read_csv(\"/Users/greenboi/ComputerScience/Python/Python Projects and Frameworks/Data Analysis/Data/ames-housing/train.csv\")\n",
    "test = pd.read_csv(\"/Users/greenboi/ComputerScience/Python/Python Projects and Frameworks/Data Analysis/Data/ames-housing/test.csv\")"
   ]
  },
  {
   "cell_type": "code",
   "execution_count": 5,
   "metadata": {},
   "outputs": [
    {
     "data": {
      "text/html": [
       "<div>\n",
       "<style scoped>\n",
       "    .dataframe tbody tr th:only-of-type {\n",
       "        vertical-align: middle;\n",
       "    }\n",
       "\n",
       "    .dataframe tbody tr th {\n",
       "        vertical-align: top;\n",
       "    }\n",
       "\n",
       "    .dataframe thead th {\n",
       "        text-align: right;\n",
       "    }\n",
       "</style>\n",
       "<table border=\"1\" class=\"dataframe\">\n",
       "  <thead>\n",
       "    <tr style=\"text-align: right;\">\n",
       "      <th></th>\n",
       "      <th>Id</th>\n",
       "      <th>MSSubClass</th>\n",
       "      <th>MSZoning</th>\n",
       "      <th>LotFrontage</th>\n",
       "      <th>LotArea</th>\n",
       "      <th>Street</th>\n",
       "      <th>Alley</th>\n",
       "      <th>LotShape</th>\n",
       "      <th>LandContour</th>\n",
       "      <th>Utilities</th>\n",
       "      <th>...</th>\n",
       "      <th>PoolArea</th>\n",
       "      <th>PoolQC</th>\n",
       "      <th>Fence</th>\n",
       "      <th>MiscFeature</th>\n",
       "      <th>MiscVal</th>\n",
       "      <th>MoSold</th>\n",
       "      <th>YrSold</th>\n",
       "      <th>SaleType</th>\n",
       "      <th>SaleCondition</th>\n",
       "      <th>SalePrice</th>\n",
       "    </tr>\n",
       "  </thead>\n",
       "  <tbody>\n",
       "    <tr>\n",
       "      <th>0</th>\n",
       "      <td>1</td>\n",
       "      <td>60</td>\n",
       "      <td>RL</td>\n",
       "      <td>65.0</td>\n",
       "      <td>8450</td>\n",
       "      <td>Pave</td>\n",
       "      <td>NaN</td>\n",
       "      <td>Reg</td>\n",
       "      <td>Lvl</td>\n",
       "      <td>AllPub</td>\n",
       "      <td>...</td>\n",
       "      <td>0</td>\n",
       "      <td>NaN</td>\n",
       "      <td>NaN</td>\n",
       "      <td>NaN</td>\n",
       "      <td>0</td>\n",
       "      <td>2</td>\n",
       "      <td>2008</td>\n",
       "      <td>WD</td>\n",
       "      <td>Normal</td>\n",
       "      <td>208500</td>\n",
       "    </tr>\n",
       "    <tr>\n",
       "      <th>1</th>\n",
       "      <td>2</td>\n",
       "      <td>20</td>\n",
       "      <td>RL</td>\n",
       "      <td>80.0</td>\n",
       "      <td>9600</td>\n",
       "      <td>Pave</td>\n",
       "      <td>NaN</td>\n",
       "      <td>Reg</td>\n",
       "      <td>Lvl</td>\n",
       "      <td>AllPub</td>\n",
       "      <td>...</td>\n",
       "      <td>0</td>\n",
       "      <td>NaN</td>\n",
       "      <td>NaN</td>\n",
       "      <td>NaN</td>\n",
       "      <td>0</td>\n",
       "      <td>5</td>\n",
       "      <td>2007</td>\n",
       "      <td>WD</td>\n",
       "      <td>Normal</td>\n",
       "      <td>181500</td>\n",
       "    </tr>\n",
       "    <tr>\n",
       "      <th>2</th>\n",
       "      <td>3</td>\n",
       "      <td>60</td>\n",
       "      <td>RL</td>\n",
       "      <td>68.0</td>\n",
       "      <td>11250</td>\n",
       "      <td>Pave</td>\n",
       "      <td>NaN</td>\n",
       "      <td>IR1</td>\n",
       "      <td>Lvl</td>\n",
       "      <td>AllPub</td>\n",
       "      <td>...</td>\n",
       "      <td>0</td>\n",
       "      <td>NaN</td>\n",
       "      <td>NaN</td>\n",
       "      <td>NaN</td>\n",
       "      <td>0</td>\n",
       "      <td>9</td>\n",
       "      <td>2008</td>\n",
       "      <td>WD</td>\n",
       "      <td>Normal</td>\n",
       "      <td>223500</td>\n",
       "    </tr>\n",
       "    <tr>\n",
       "      <th>3</th>\n",
       "      <td>4</td>\n",
       "      <td>70</td>\n",
       "      <td>RL</td>\n",
       "      <td>60.0</td>\n",
       "      <td>9550</td>\n",
       "      <td>Pave</td>\n",
       "      <td>NaN</td>\n",
       "      <td>IR1</td>\n",
       "      <td>Lvl</td>\n",
       "      <td>AllPub</td>\n",
       "      <td>...</td>\n",
       "      <td>0</td>\n",
       "      <td>NaN</td>\n",
       "      <td>NaN</td>\n",
       "      <td>NaN</td>\n",
       "      <td>0</td>\n",
       "      <td>2</td>\n",
       "      <td>2006</td>\n",
       "      <td>WD</td>\n",
       "      <td>Abnorml</td>\n",
       "      <td>140000</td>\n",
       "    </tr>\n",
       "    <tr>\n",
       "      <th>4</th>\n",
       "      <td>5</td>\n",
       "      <td>60</td>\n",
       "      <td>RL</td>\n",
       "      <td>84.0</td>\n",
       "      <td>14260</td>\n",
       "      <td>Pave</td>\n",
       "      <td>NaN</td>\n",
       "      <td>IR1</td>\n",
       "      <td>Lvl</td>\n",
       "      <td>AllPub</td>\n",
       "      <td>...</td>\n",
       "      <td>0</td>\n",
       "      <td>NaN</td>\n",
       "      <td>NaN</td>\n",
       "      <td>NaN</td>\n",
       "      <td>0</td>\n",
       "      <td>12</td>\n",
       "      <td>2008</td>\n",
       "      <td>WD</td>\n",
       "      <td>Normal</td>\n",
       "      <td>250000</td>\n",
       "    </tr>\n",
       "  </tbody>\n",
       "</table>\n",
       "<p>5 rows × 81 columns</p>\n",
       "</div>"
      ],
      "text/plain": [
       "   Id  MSSubClass MSZoning  LotFrontage  LotArea Street Alley LotShape  \\\n",
       "0   1          60       RL         65.0     8450   Pave   NaN      Reg   \n",
       "1   2          20       RL         80.0     9600   Pave   NaN      Reg   \n",
       "2   3          60       RL         68.0    11250   Pave   NaN      IR1   \n",
       "3   4          70       RL         60.0     9550   Pave   NaN      IR1   \n",
       "4   5          60       RL         84.0    14260   Pave   NaN      IR1   \n",
       "\n",
       "  LandContour Utilities  ... PoolArea PoolQC Fence MiscFeature MiscVal MoSold  \\\n",
       "0         Lvl    AllPub  ...        0    NaN   NaN         NaN       0      2   \n",
       "1         Lvl    AllPub  ...        0    NaN   NaN         NaN       0      5   \n",
       "2         Lvl    AllPub  ...        0    NaN   NaN         NaN       0      9   \n",
       "3         Lvl    AllPub  ...        0    NaN   NaN         NaN       0      2   \n",
       "4         Lvl    AllPub  ...        0    NaN   NaN         NaN       0     12   \n",
       "\n",
       "  YrSold  SaleType  SaleCondition  SalePrice  \n",
       "0   2008        WD         Normal     208500  \n",
       "1   2007        WD         Normal     181500  \n",
       "2   2008        WD         Normal     223500  \n",
       "3   2006        WD        Abnorml     140000  \n",
       "4   2008        WD         Normal     250000  \n",
       "\n",
       "[5 rows x 81 columns]"
      ]
     },
     "execution_count": 5,
     "metadata": {},
     "output_type": "execute_result"
    }
   ],
   "source": [
    "train.head()"
   ]
  },
  {
   "cell_type": "code",
   "execution_count": 6,
   "metadata": {},
   "outputs": [],
   "source": [
    "all_data = pd.concat((train.loc[:,'MSSubClass':'SaleCondition'],\n",
    "                      test.loc[:,'MSSubClass':'SaleCondition']))"
   ]
  },
  {
   "attachments": {},
   "cell_type": "markdown",
   "metadata": {},
   "source": [
    "#### Data Preprocessing\n",
    "\n",
    "* First we transform the skewed numeric features by taking log(feature + 1) - this in turn makes the features more normal.\n",
    "\n",
    "* Then we create dummy variables for the categorical features.\n",
    "\n",
    "* Finally, we replace the numeric missing values with the mean of their respective columns."
   ]
  },
  {
   "cell_type": "code",
   "execution_count": 7,
   "metadata": {},
   "outputs": [
    {
     "data": {
      "text/plain": [
       "array([[<AxesSubplot: title={'center': 'price'}>,\n",
       "        <AxesSubplot: title={'center': 'log(price + 1)'}>]], dtype=object)"
      ]
     },
     "execution_count": 7,
     "metadata": {},
     "output_type": "execute_result"
    },
    {
     "data": {
      "image/png": "[encoded data removed]",
      "text/plain": [
       "<Figure size 1200x600 with 2 Axes>"
      ]
     },
     "metadata": {},
     "output_type": "display_data"
    }
   ],
   "source": [
    "matplotlib.rcParams['figure.figsize'] = (12.0, 6.0)\n",
    "prices = pd.DataFrame({\"price\":train[\"SalePrice\"], \"log(price + 1)\":np.log1p(train[\"SalePrice\"])})\n",
    "prices.hist()"
   ]
  },
  {
   "cell_type": "code",
   "execution_count": 9,
   "metadata": {},
   "outputs": [
    {
     "data": {
      "application/vnd.plotly.v1+json": {
       "config": {
        "plotlyServerURL": "https://plot.ly"
       },
       "data": [
        {
         "alignmentgroup": "True",
         "bingroup": "x",
         "hovertemplate": "variable=log(price + 1)<br>value=%{x}<br>count=%{y}<extra></extra>",
         "legendgroup": "log(price + 1)",
         "marker": {
          "color": "#636efa",
          "pattern": {
           "shape": ""
          }
         },
         "name": "log(price + 1)",
         "offsetgroup": "log(price + 1)",
         "orientation": "v",
         "showlegend": true,
         "type": "histogram",
         "x": [
          12.24769911637256,
          12.109016442313738,
          12.317171167298682,
          11.849404844423074,
          12.429220196836383,
          11.870606902224587,
          12.634606283893019,
          12.206077645517674,
          11.774527900858468,
          11.678448377988165,
          11.771443882099637,
          12.75130259456002,
          11.87757552297847,
          12.540761149388421,
          11.964007453736912,
          11.790564777297387,
          11.91170829631447,
          11.407576060361786,
          11.976665770490767,
          11.842236406331555,
          12.692506186542177,
          11.845109950883979,
          12.345838935721968,
          11.774527900858468,
          11.944714374881176,
          12.454107814022272,
          11.811554895830454,
          12.631343648903034,
          12.242891437918386,
          11.134603622683905,
          10.596659732783579,
          11.914054519303125,
          12.100161978566867,
          12.016732516077072,
          12.533579815765737,
          12.6410997921206,
          11.884495917930655,
          11.938199736300925,
          11.599112335481124,
          11.314486721293981,
          11.982935344196433,
          12.04355959836804,
          11.87757552297847,
          11.777218637129327,
          11.856522261533737,
          12.675766851909591,
          12.387089184491993,
          12.428019481065613,
          11.635151947212842,
          11.751950239425476,
          12.083910661257521,
          11.648338835562747,
          11.608244735642321,
          12.861001210669146,
          11.775297421715827,
          12.103491596905931,
          12.058158312538197,
          12.188422799337028,
          12.991755706536901,
          11.735276702486741,
          11.970356641102999,
          11.522885696764481,
          12.218500103788143,
          11.849404844423074,
          12.299112067295642,
          12.666660207428574,
          12.100717685412471,
          12.328294703023394,
          11.289794413577894,
          12.323860125621126,
          12.404927602627597,
          11.771443882099637,
          12.128116509451258,
          11.88380602959621,
          11.58432477200052,
          11.418625774449596,
          11.818577604251555,
          11.751950239425476,
          11.824087219587643,
          11.608244735642321,
          12.173037959397275,
          11.941462360646149,
          12.409017571151187,
          11.748005492256807,
          12.034696963475044,
          12.468440756144114,
          12.066816325306588,
          12.010671928196443,
          11.350418300109132,
          11.724813914587886,
          11.60733523953139,
          11.498836682527127,
          12.004574385508691,
          11.804855999911272,
          12.229549885708273,
          12.128116509451258,
          12.273735966890268,
          11.459007676978688,
          11.326607934898927,
          11.767187766223199,
          12.230770136157428,
          12.08954444723597,
          11.68658461118553,
          12.200562492481511,
          12.040614105490253,
          12.429220196836383,
          11.51293546492023,
          11.652696102959753,
          11.652696102959753,
          12.154784614286667,
          11.827013315851762,
          12.100717685412471,
          12.85832230788469,
          12.28765724080691,
          12.466515835145202,
          12.07824495582233,
          11.842236406331555,
          11.951186847493476,
          12.676079399771027,
          12.0075668272517,
          12.100717685412471,
          11.51293546492023,
          11.820417517632333,
          11.944064817531656,
          12.10625783509458,
          11.344518647594766,
          11.759793355371237,
          11.373674891823535,
          11.951186847493476,
          11.918397239722838,
          12.328294703023394,
          12.404927602627597,
          11.923384748066601,
          12.301387370778713,
          12.100717685412471,
          12.066816325306588,
          11.870606902224587,
          12.049424683420915,
          12.345838935721968,
          12.352339472153524,
          11.652696102959753,
          12.468440756144114,
          12.019749091416921,
          12.225880174775122,
          11.736077016252437,
          11.775297421715827,
          11.561725152903833,
          12.312686874960354,
          11.856522261533737,
          11.652696102959753,
          11.711784520403112,
          12.827731880206521,
          12.154784614286667,
          12.367345048436391,
          11.736077016252437,
          11.277215789596893,
          11.603688960617083,
          12.504327379899443,
          12.448630513463613,
          12.676079399771027,
          11.998439434579149,
          12.929993908996359,
          12.301387370778713,
          11.544433821905134,
          11.931642378754141,
          11.755879486687116,
          12.154784614286667,
          12.693501691489768,
          12.119975396053194,
          12.337105293891872,
          11.763691965388299,
          12.278397958261774,
          12.384223015005313,
          12.001511614739405,
          12.122696471358964,
          12.400820837540556,
          12.259618151783465,
          12.058158312538197,
          13.126032637428713,
          11.51293546492023,
          12.083910661257521,
          12.206577518060588,
          11.695255355062795,
          12.206077645517674,
          11.751950239425476,
          13.07107218827772,
          12.06105265381003,
          11.813037464800539,
          11.940399914116648,
          12.563750586299374,
          12.660331092405906,
          12.122696471358964,
          12.165255859329688,
          11.775297421715827,
          11.751950239425476,
          11.908346971208951,
          12.650351332641707,
          12.367345048436391,
          11.552155793461898,
          12.524166311833152,
          11.849404844423074,
          12.052344376474922,
          11.626263078808801,
          11.91170829631447,
          11.608244735642321,
          12.103491596905931,
          11.87688084212164,
          11.856522261533737,
          12.531776395271262,
          11.884495917930655,
          11.49273296168228,
          12.133507329024972,
          12.439875187430008,
          11.957617696467539,
          11.993813394724253,
          11.808955099378537,
          12.25486757159303,
          11.580593459194764,
          12.649157827477366,
          12.027191164883384,
          12.230282214644559,
          12.206077645517674,
          12.100161978566867,
          11.48247656671073,
          12.864242696187505,
          11.626263078808801,
          12.577639650232573,
          11.571203807011969,
          11.736077016252437,
          12.167856627501678,
          11.904974309480183,
          12.90669432231532,
          11.456365695436427,
          11.761354623750297,
          12.285350445351659,
          11.402005077384885,
          12.130815551850676,
          12.178192583415596,
          12.669809806411457,
          11.635151947212842,
          12.47801017053037,
          11.612779849672751,
          11.277215789596893,
          11.695255355062795,
          12.230770136157428,
          12.394628892852941,
          11.827743504053695,
          11.849404844423074,
          12.100717685412471,
          12.531776395271262,
          11.245059091624615,
          12.367345048436391,
          12.06105265381003,
          11.970356641102999,
          11.884495917930655,
          12.345838935721968,
          12.242891437918386,
          12.301387370778713,
          12.352339472153524,
          11.48247656671073,
          12.07824495582233,
          12.52815976788113,
          11.92504173829169,
          11.775297421715827,
          11.19822841866684,
          12.075400019877522,
          12.128116509451258,
          12.097936057925594,
          11.699413330633599,
          11.904974309480183,
          12.491255347155265,
          12.394628892852941,
          12.577639650232573,
          11.842236406331555,
          11.732069026983156,
          12.230770136157428,
          12.211065162153215,
          11.856522261533737,
          12.936754021718041,
          12.165255859329688,
          12.339295865674435,
          12.128116509451258,
          12.242891437918386,
          12.407383590534293,
          12.09626335986454,
          12.011886987792716,
          11.976665770490767,
          11.385103457032141,
          11.711784520403112,
          11.941950837487406,
          12.359784657728284,
          11.819681958463892,
          11.782960235741939,
          12.367345048436391,
          12.025755079404917,
          11.86710429621008,
          11.931642378754141,
          12.384223015005313,
          12.07254696717504,
          11.973516181427835,
          11.964007453736912,
          12.495007682693725,
          12.230770136157428,
          11.917730355182513,
          12.59473402514672,
          12.631016799175821,
          12.323860125621126,
          11.402005077384885,
          11.320565693461432,
          12.793862088206213,
          12.017336559562407,
          11.790564777297387,
          11.694421681264394,
          12.834683971615659,
          12.08954444723597,
          12.146858590895919,
          12.468440756144114,
          12.506180941677357,
          12.468440756144114,
          12.141539457711714,
          12.74444728628135,
          12.777055016970678,
          12.614868865984631,
          11.745433036677353,
          12.396697137361691,
          11.373674891823535,
          12.688501881189456,
          11.886218559372042,
          12.276069679344003,
          11.264476926102367,
          11.686887175419702,
          11.842236406331555,
          12.556733038263905,
          12.240478903153711,
          12.165255859329688,
          12.34126328584159,
          12.841132451487937,
          12.273735966890268,
          12.218500103788143,
          11.951186847493476,
          12.220473454337986,
          11.314486721293981,
          11.37940550085183,
          12.491255347155265,
          11.350418300109132,
          11.850832386224807,
          11.928347504569842,
          11.967187086434018,
          11.944714374881176,
          12.988043102265232,
          12.670001611311875,
          12.154784614286667,
          11.461642696843066,
          11.570259974415547,
          11.849404844423074,
          12.086731521684555,
          12.06105265381003,
          11.80560254159177,
          11.775297421715827,
          12.54254845357358,
          11.957617696467539,
          11.884495917930655,
          12.198549416880068,
          11.678448377988165,
          12.154784614286667,
          11.898194668458823,
          11.976665770490767,
          12.013706813470414,
          11.790564777297387,
          11.995357787034976,
          12.057578437658945,
          11.808821212646512,
          11.736077016252437,
          11.719947764402807,
          12.299112067295642,
          11.0186455364637,
          11.904974309480183,
          12.73670383776449,
          12.885204569609956,
          12.095146671399466,
          11.751950239425476,
          12.142871895843887,
          12.271396795480596,
          11.23850177707664,
          12.388398368982115,
          12.165255859329688,
          11.302216779257382,
          11.736077016252437,
          12.160033942617156,
          12.962196972666593,
          11.686887175419702,
          12.278397958261774,
          11.575909653758895,
          11.51293546492023,
          11.599112335481124,
          11.767575435251748,
          11.719947764402807,
          12.040614105490253,
          11.112462823634855,
          12.392556361841777,
          12.411056299528171,
          12.013646205940514,
          11.58989576532275,
          12.460718739865236,
          12.031725210748633,
          11.918397239722838,
          11.652696102959753,
          12.083910661257521,
          12.54254845357358,
          12.73596827534975,
          11.002116507732017,
          11.884495917930655,
          12.310437165348775,
          11.652696102959753,
          12.337105293891872,
          12.106997888588934,
          11.915058360753719,
          12.384223015005313,
          11.744045122410057,
          11.863589378812122,
          12.237091546357338,
          12.278397958261774,
          11.635151947212842,
          12.660331092405906,
          11.842236406331555,
          11.813037464800539,
          12.524530013005734,
          11.599185726610004,
          12.182809136284991,
          12.07254696717504,
          11.355113089309977,
          11.288543647320601,
          11.715874472198905,
          12.10625783509458,
          11.302216779257382,
          12.264346270624157,
          11.661354090741,
          11.686887175419702,
          11.411457364027745,
          11.608244735642321,
          13.22672519452875,
          11.678448377988165,
          12.000897933306716,
          12.058158312538197,
          12.25486757159303,
          11.755879486687116,
          12.154784614286667,
          12.20557752297723,
          11.691080018519527,
          11.695255355062795,
          11.608244735642321,
          12.54254845357358,
          12.225880174775122,
          12.25486757159303,
          12.144202560946876,
          12.075400019877522,
          11.49273296168228,
          12.45293662970407,
          11.989165855127435,
          11.608244735642321,
          12.481565733211923,
          11.951186847493476,
          11.04106411122238,
          12.147919030759663,
          11.728044909070785,
          12.093693109638318,
          12.025755079404917,
          11.89478753335453,
          12.429220196836383,
          12.138869243416009,
          12.264346270624157,
          12.154784614286667,
          11.904974309480183,
          12.994532278619134,
          12.433212202169729,
          11.794345471549745,
          12.249615734512616,
          12.847929163278053,
          12.601490784782536,
          11.401681006153428,
          12.694655727828803,
          12.832013750189885,
          11.951186847493476,
          12.00762780434872,
          11.794345471549745,
          11.898194668458823,
          11.957617696467539,
          12.07254696717504,
          11.982935344196433,
          11.362114203075018,
          11.652696102959753,
          11.798111925972618,
          12.059809113551397,
          11.951186847493476,
          11.421917019425596,
          10.460270761075149,
          12.971542813248437,
          12.122696471358964,
          11.775297421715827,
          11.695255355062795,
          11.635151947212842,
          12.331387247601905,
          11.849404844423074,
          12.574185427296195,
          11.898194668458823,
          11.732069026983156,
          12.278397958261774,
          12.246739428005663,
          11.989165855127435,
          11.732069026983156,
          12.013100572810686,
          12.2193145828011,
          11.774527900858468,
          11.80560254159177,
          11.477308649967686,
          12.90634935052389,
          11.970356641102999,
          12.487488878546145,
          12.259618151783465,
          12.36308066783498,
          11.573559498507079,
          11.918397239722838,
          11.976665770490767,
          12.126764251515691,
          12.662709207270272,
          12.07824495582233,
          11.790564777297387,
          13.008661502470739,
          11.362114203075018,
          12.209192772866418,
          12.07254696717504,
          11.759793355371237,
          11.58525542883217,
          10.579005242826247,
          12.08954444723597,
          11.58525542883217,
          12.144202560946876,
          11.619544188752133,
          11.970356641102999,
          12.513561021741964,
          12.660331092405906,
          12.421188057397055,
          12.270225154674701,
          11.798111925972618,
          12.098854850641,
          12.34148164933907,
          12.25486757159303,
          11.771443882099637,
          11.736077016252437,
          12.479913113434042,
          11.849404844423074,
          11.630717389475995,
          12.450981602512561,
          11.58989576532275,
          12.556733038263905,
          11.635151947212842,
          11.856522261533737,
          11.58989576532275,
          12.07254696717504,
          12.36308066783498,
          11.707677772181546,
          12.04355959836804,
          11.58989576532275,
          12.128116509451258,
          12.498745990829315,
          11.759793355371237,
          12.691583538230217,
          12.273735966890268,
          12.665397584983758,
          11.820123358887447,
          11.867805799560465,
          11.695255355062795,
          12.32163544049751,
          12.04355959836804,
          11.842236406331555,
          11.682676678340282,
          11.884495917930655,
          12.010671928196443,
          11.891368749982085,
          11.78676973513378,
          12.111217862017215,
          12.442306148381938,
          11.682676678340282,
          12.691583538230217,
          11.798111925972618,
          12.820990681250251,
          11.775297421715827,
          11.827743504053695,
          11.870606902224587,
          11.283524879179666,
          12.132969552931216,
          13.02132904585825,
          11.835016210489899,
          11.849404844423074,
          11.608244735642321,
          12.672949516558306,
          11.648373769145277,
          12.176654133447505,
          12.289958727201455,
          11.92504173829169,
          12.524530013005734,
          11.856522261533737,
          12.301387370778713,
          11.92504173829169,
          12.30592250537653,
          12.230770136157428,
          11.931642378754141,
          12.323860125621126,
          12.791358964949923,
          11.682676678340282,
          12.653961664405365,
          11.904974309480183,
          12.474193386571581,
          11.898194668458823,
          11.231901180182515,
          11.83138646878959,
          12.118339189722553,
          11.566475710526321,
          12.659737267217572,
          12.628070334272698,
          11.112462823634855,
          12.388398368982115,
          11.813037464800539,
          12.034696963475044,
          12.014615485902027,
          11.982935344196433,
          11.848690308590857,
          11.938199736300925,
          11.813037464800539,
          12.034696963475044,
          11.728044909070785,
          12.252483791602627,
          11.320565693461432,
          11.845109950883979,
          11.87757552297847,
          12.206077645517674,
          11.002116507732017,
          11.440365524765756,
          11.350418300109132,
          12.485830907348902,
          12.520887034998584,
          12.328294703023394,
          12.75130259456002,
          11.931642378754141,
          12.823631142839984,
          11.872353615355413,
          11.495789479023493,
          11.951186847493476,
          11.951186847493476,
          11.344518647594766,
          12.235393555399902,
          11.58989576532275,
          12.160033942617156,
          11.813037464800539,
          12.765691290604371,
          11.385103457032141,
          11.8879382384223,
          11.91170829631447,
          11.487617913343598,
          12.025755079404917,
          12.19552218463499,
          12.904209855160254,
          11.608244735642321,
          11.83138646878959,
          12.955129822091815,
          12.348010479804223,
          11.767575435251748,
          12.173037959397275,
          12.031725210748633,
          11.83138646878959,
          12.063938642041201,
          11.548302261270587,
          12.013706813470414,
          12.458778882573533,
          11.849404844423074,
          11.908346971208951,
          11.373674891823535,
          11.603688960617083,
          12.827995001361906,
          11.763691965388299,
          11.870606902224587,
          11.979391594635791,
          12.06105265381003,
          12.560247968016562,
          12.30592250537653,
          12.242891437918386,
          12.336556900342153,
          11.910365121788654,
          12.879019669789754,
          12.179220327453931,
          11.856522261533737,
          13.534474352733596,
          12.721888795877375,
          11.59433032142082,
          11.860062063178267,
          12.07824495582233,
          11.39640288460621,
          11.724004532183379,
          11.83863282480007,
          12.185875040240456,
          12.652362948153474,
          11.849404844423074,
          12.799178471909892,
          11.849404844423074,
          12.269052139516223,
          10.915106645867503,
          12.618185607609803,
          12.445093483000798,
          12.09815887308463,
          11.60733523953139,
          10.859018228147887,
          11.54031687156214,
          12.149507585033072,
          11.767575435251748,
          11.779136168550774,
          12.013706813470414,
          11.979805470779858,
          11.964007453736912,
          12.739640688812674,
          11.763691965388299,
          12.524530013005734,
          11.870606902224587,
          11.732069026983156,
          11.813037464800539,
          12.676079399771027,
          11.699413330633599,
          12.310437165348775,
          12.178192583415596,
          11.608244735642321,
          11.542493975902508,
          12.373707715234994,
          12.141539457711714,
          12.312686874960354,
          11.786008995353765,
          11.58989576532275,
          12.001511614739405,
          11.445727410406752,
          12.3879816172226,
          12.095146671399466,
          12.154784614286667,
          11.790564777297387,
          11.863589378812122,
          12.095146671399466,
          12.07254696717504,
          12.100717685412471,
          12.61087420020211,
          12.371591321286905,
          12.491176396967154,
          12.469978029554953,
          11.49273296168228,
          11.477308649967686,
          11.995357787034976,
          12.28765724080691,
          12.526346537332584,
          11.957617696467539,
          12.058158312538197,
          12.264346270624157,
          11.97603664577121,
          12.097378802727306,
          12.577639650232573,
          11.755879486687116,
          11.51293546492023,
          12.279327754099118,
          12.727841176689147,
          12.506180941677357,
          12.484208043148733,
          12.188422799337028,
          11.982935344196433,
          12.28690580994122,
          13.195615697878253,
          11.812296455066814,
          11.532737896139919,
          11.580593459194764,
          11.648338835562747,
          12.886643575525625,
          11.995357787034976,
          12.308182383129823,
          11.86710429621008,
          11.87757552297847,
          11.813037464800539,
          12.07824495582233,
          12.077676615757813,
          12.139403856983334,
          12.016732516077072,
          11.759793355371237,
          11.992266613576142,
          11.842236406331555,
          12.358798024384122,
          11.588969419043872,
          12.141539457711714,
          11.984184555794167,
          11.896833207128452,
          12.505402864156405,
          12.323860125621126,
          12.178192583415596,
          12.049424683420915,
          11.874097282798648,
          11.608244735642321,
          13.091906231773164,
          12.07254696717504,
          12.206077645517674,
          11.60733523953139,
          12.149507585033072,
          13.275829251377,
          11.678448377988165,
          12.335700805443338,
          11.816734299348461,
          12.317171167298682,
          11.982622797311857,
          11.571203807011969,
          12.10625783509458,
          11.881041706925902,
          10.932999821119937,
          11.969723533345908,
          11.661354090741,
          12.323415584358154,
          11.827743504053695,
          12.509877789891931,
          11.951186847493476,
          12.319405795112926,
          12.117246896289503,
          11.440365524765756,
          12.323860125621126,
          11.845827048676645,
          12.357079818283598,
          12.861001210669146,
          11.603688960617083,
          12.149507585033072,
          12.128116509451258,
          11.900912042974875,
          12.019749091416921,
          11.92504173829169,
          12.37581963951765,
          12.025755079404917,
          11.849047640327147,
          11.759793355371237,
          11.941462360646149,
          11.51293546492023,
          11.87757552297847,
          11.779136168550774,
          11.849404844423074,
          11.967187086434018,
          12.071975378543236,
          11.856522261533737,
          11.944064817531656,
          12.049424683420915,
          12.269052139516223,
          11.80186424743109,
          12.388398368982115,
          12.138869243416009,
          11.78676973513378,
          12.278397958261774,
          12.00762780434872,
          11.970356641102999,
          12.04355959836804,
          11.751950239425476,
          11.898194668458823,
          12.066816325306588,
          11.931642378754141,
          12.429220196836383,
          12.154521423145216,
          11.78676973513378,
          11.931642378754141,
          11.794345471549745,
          12.43153750053306,
          11.908346971208951,
          12.424810506025395,
          11.767575435251748,
          12.037659911047468,
          12.371591321286905,
          11.603688960617083,
          12.208574513247495,
          11.661354090741,
          11.798111925972618,
          11.104972264124868,
          12.623064399210183,
          11.792456911128632,
          12.765691290604371,
          11.904974309480183,
          11.824087219587643,
          11.964007453736912,
          12.141539457711714,
          12.08954444723597,
          11.682676678340282,
          11.51293546492023,
          12.70351207261035,
          11.884495917930655,
          11.816734299348461,
          12.498745990829315,
          11.915058360753719,
          11.719134432217524,
          12.058158312538197,
          11.947955847790901,
          12.013706813470414,
          11.685693195625964,
          11.849404844423074,
          11.575909653758895,
          11.870278179170796,
          13.323928581764989,
          11.813037464800539,
          11.608244735642321,
          11.938199736300925,
          12.100717685412471,
          12.388398368982115,
          11.74006900564972,
          11.759793355371237,
          12.449022745701502,
          12.429220196836383,
          11.782960235741939,
          12.066816325306588,
          11.946660519211651,
          11.874097282798648,
          11.385103457032141,
          11.884495917930655,
          12.065280672855897,
          11.225256725762893,
          10.471978128496518,
          11.813037464800539,
          12.380030154325457,
          12.081081821061819,
          12.211065162153215,
          11.890683588496984,
          12.043500773454495,
          12.170450649220749,
          12.242891437918386,
          12.07254696717504,
          12.560247968016562,
          12.07824495582233,
          12.373707715234994,
          12.310437165348775,
          12.211065162153215,
          11.674202123168433,
          12.676079399771027,
          12.154784614286667,
          12.396697137361691,
          11.288543647320601,
          12.127575825689417,
          12.441148720271016,
          12.387560521575551,
          12.406565597924235,
          11.924379271639218,
          12.273735966890268,
          11.918397239722838,
          11.870606902224587,
          11.83138646878959,
          11.735276702486741,
          11.870606902224587,
          12.506180941677357,
          12.167856627501678,
          12.193498926601634,
          11.767575435251748,
          11.694421681264394,
          11.804855999911272,
          12.055255569732177,
          11.755879486687116,
          11.884495917930655,
          11.728044909070785,
          11.790564777297387,
          12.128116509451258,
          11.951186847493476,
          11.665655135642039,
          12.513561021741964,
          11.951186847493476,
          12.384223015005313,
          12.277932735946903,
          12.094587859196112,
          11.982935344196433,
          11.813037464800539,
          10.542732775946709,
          11.849404844423074,
          11.813037464800539,
          12.06105265381003,
          11.507922973347437,
          12.111767460549332,
          12.02874460037869,
          12.013706813470414,
          11.356283350762888,
          12.20557752297723,
          11.608244735642321,
          11.842236406331555,
          12.091789104493502,
          12.724869415131389,
          11.982278882874377,
          12.45254592991672,
          11.744045122410057,
          11.736077016252437,
          11.669937760751914,
          12.887129532148373,
          12.180759965737863,
          12.190964083849375,
          12.759960632315702,
          12.031725210748633,
          12.138869243416009,
          12.066241450757124,
          12.729323752253295,
          11.7085004721646,
          11.824087219587643,
          12.128116509451258,
          11.418625774449596,
          12.235636302128867,
          11.314486721293981,
          11.362114203075018,
          12.354496960983985,
          11.827049837927534,
          12.10625783509458,
          11.917730355182513,
          12.004574385508691,
          11.385103457032141,
          12.388398368982115,
          11.532737896139919,
          11.813037464800539,
          11.51293546492023,
          12.013706813470414,
          11.350418300109132,
          11.688566422839942,
          12.33270970174018,
          12.220966184120165,
          12.141539457711714,
          11.982935344196433,
          12.271349956195543,
          12.07824495582233,
          12.175618592671356,
          11.373674891823535,
          12.160033942617156,
          12.567240979056246,
          11.630717389475995,
          12.02874460037869,
          12.588194064175278,
          11.561725152903833,
          11.678448377988165,
          11.982935344196433,
          12.190964083849375,
          12.644330802262578,
          12.345838935721968,
          11.693169865968983,
          11.338583982516495,
          12.66191713053049,
          12.567240979056246,
          11.48247656671073,
          11.289794413577894,
          11.951186847493476,
          12.06105265381003,
          12.185875040240456,
          12.47717172708952,
          12.535379989788607,
          11.846543632608535,
          13.229569788348705,
          11.884495917930655,
          11.652696102959753,
          11.349241150793087,
          12.080996832096167,
          12.206782393599413,
          12.013706813470414,
          11.881041706925902,
          12.449022745701502,
          12.100717685412471,
          12.13270055639427,
          12.421188057397055,
          12.721888795877375,
          12.301387370778713,
          12.271396795480596,
          11.302216779257382,
          11.407576060361786,
          11.612779849672751,
          11.944714374881176,
          12.700771936142122,
          12.08954444723597,
          12.031129798974042,
          11.927687224983487,
          11.813037464800539,
          11.813037464800539,
          11.944714374881176,
          11.424105180165641,
          11.979805470779858,
          12.175618592671356,
          12.299112067295642,
          12.04355959836804,
          11.840796531639839,
          11.956976469393481,
          11.744045122410057,
          11.884495917930655,
          11.798111925972618,
          12.165255859329688,
          11.982935344196433,
          12.141539457711714,
          11.898194668458823,
          11.332613886815139,
          12.437188334739655,
          11.83138646878959,
          12.190964083849375,
          11.439289689006644,
          11.982935344196433,
          11.824087219587643,
          11.891368749982085,
          11.767575435251748,
          12.080696479888447,
          11.751950239425476,
          12.04355959836804,
          11.759793355371237,
          11.964007453736912,
          11.002116507732017,
          11.691080018519527,
          11.813037464800539,
          11.979805470779858,
          11.571203807011969,
          12.691583538230217,
          12.100161978566867,
          12.52352951631214,
          12.10625783509458,
          12.54254845357358,
          12.144202560946876,
          12.230770136157428,
          11.774527900858468,
          11.80932691294063,
          11.669937760751914,
          12.669809806411457,
          12.123239799036943,
          11.775297421715827,
          11.849404844423074,
          11.803361242493628,
          11.681832447342321,
          12.268582547911404,
          11.626263078808801,
          11.678448377988165,
          12.007017865994577,
          11.652696102959753,
          12.066816325306588,
          12.464587201678082,
          12.278397958261774,
          11.849404844423074,
          11.813037464800539,
          11.445727410406752,
          11.674202123168433,
          12.386312871189734,
          12.037659911047468,
          11.532737896139919,
          11.686887175419702,
          11.451060699493427,
          12.185875040240456,
          11.87757552297847,
          11.842236406331555,
          12.193498926601634,
          12.959540872420414,
          11.289794413577894,
          11.289794413577894,
          11.91170829631447,
          12.100717685412471,
          12.069685751267224,
          11.669082701743504,
          11.870606902224587,
          11.728044909070785,
          11.917730355182513,
          12.345838935721968,
          11.699413330633599,
          12.215037342290755,
          12.292254928916668,
          12.100161978566867,
          12.345838935721968,
          12.367889578686164,
          12.128116509451258,
          11.891368749982085,
          12.319405795112926,
          11.767575435251748,
          11.59873612138334,
          12.175618592671356,
          12.359527368950229,
          12.41044511731981,
          12.06105265381003,
          12.367345048436391,
          13.345508528717259,
          12.049424683420915,
          12.001511614739405,
          12.05467400868968,
          12.208574513247495,
          12.384223015005313,
          12.560247968016562,
          11.691080018519527,
          11.652696102959753,
          11.950541482162043,
          11.440365524765756,
          12.429220196836383,
          12.880294363972055,
          13.521140839642674,
          11.695255355062795,
          12.137263685701864,
          11.560772327227417,
          11.461642696843066,
          12.476103599529843,
          12.180759965737863,
          12.149507585033072,
          12.031725210748633,
          12.066816325306588,
          11.736077016252437,
          12.013706813470414,
          11.970356641102999,
          12.07824495582233,
          12.29779001527865,
          11.87757552297847,
          12.08954444723597,
          11.904974309480183,
          11.6617850286409,
          12.19552218463499,
          11.669937760751914,
          12.269052139516223,
          11.941462360646149,
          12.513193308436527,
          11.580593459194764,
          12.206077645517674,
          11.849404844423074,
          12.577639650232573,
          12.149507585033072,
          12.00762780434872,
          11.635151947212842,
          11.884495917930655,
          11.80932691294063,
          11.736077016252437,
          11.626263078808801,
          12.343470927093518,
          11.296024885689746,
          11.424105180165641,
          11.652696102959753,
          11.80560254159177,
          11.870606902224587,
          11.834291315386718,
          12.122696471358964,
          11.884495917930655,
          12.273735966890268,
          11.898194668458823,
          12.813920618864572,
          11.751950239425476,
          12.154784614286667,
          11.794345471549745,
          11.530775206233024,
          11.863589378812122,
          11.775297421715827,
          11.841423131921784,
          12.075400019877522,
          12.180759965737863,
          11.86710429621008,
          12.490879338036375,
          12.323415584358154,
          12.42250975887691,
          12.04355959836804,
          13.049794835104816,
          12.345838935721968,
          12.08954444723597,
          12.136191879981927,
          12.042971193457888,
          11.771443882099637,
          11.686887175419702,
          12.404927602627597,
          12.053801032483948,
          11.775297421715827,
          12.591338447675579,
          12.016128107502665,
          11.755879486687116,
          12.616528611893463,
          11.511934974596555,
          12.154784614286667,
          11.92504173829169,
          12.10625783509458,
          11.766799946849087,
          11.992266613576142,
          12.103491596905931,
          12.10625783509458,
          12.12215284831553,
          11.711784520403112,
          12.843973993864076,
          12.850557278777309,
          11.87757552297847,
          12.468440756144114,
          12.132162346145595,
          11.827743504053695,
          12.083910661257521,
          11.842236406331555,
          11.827743504053695,
          11.995357787034976,
          12.19552218463499,
          12.37581963951765,
          11.133142723386813,
          12.33270970174018,
          12.100717685412471,
          11.921725007667265,
          11.842236406331555,
          12.037659911047468,
          11.794345471549745,
          11.870606902224587,
          12.154784614286667,
          12.535379989788607,
          12.546113507028412,
          12.103491596905931,
          11.691080018519527,
          11.58525542883217,
          12.000897933306716,
          11.652696102959753,
          11.83863282480007,
          11.951186847493476,
          11.849404844423074,
          11.982935344196433,
          11.944714374881176,
          12.323860125621126,
          12.086731521684555,
          12.577639650232573,
          12.354496960983985,
          11.775297421715827,
          12.691583538230217,
          12.218500103788143,
          11.835016210489899,
          11.898194668458823,
          12.09626335986454,
          12.721888795877375,
          12.220966184120165,
          12.618185607609803,
          12.716405147731708,
          11.686887175419702,
          12.239995696974733,
          12.596403811053621,
          12.249615734512616,
          12.524530013005734,
          11.6172944892629,
          11.960817678718287,
          11.19135563385109,
          12.154784614286667,
          11.320565693461432,
          11.898194668458823,
          10.915106645867503,
          11.277215789596893,
          11.779136168550774,
          12.45293662970407,
          12.081081821061819,
          12.33270970174018,
          11.794345471549745,
          11.51293546492023,
          11.74006900564972,
          11.736077016252437,
          12.031129798974042,
          11.813037464800539,
          10.868587496017359,
          12.206077645517674,
          11.763691965388299,
          11.719947764402807,
          11.951186847493476,
          12.339295865674435,
          12.083910661257521,
          11.95655945119582,
          11.59451466851004,
          12.47801017053037,
          12.554840409959793,
          12.278397958261774,
          11.711784520403112,
          12.206077645517674,
          12.049424683420915,
          11.812296455066814,
          12.923914877701906,
          12.367345048436391,
          12.04355959836804,
          11.608244735642321,
          11.917730355182513,
          12.086731521684555,
          12.660331092405906,
          12.149507585033072,
          12.468440756144114,
          11.560772327227417,
          11.963574241653713,
          11.878630514504515,
          12.283038316285214,
          12.170450649220749,
          11.751950239425476,
          11.87757552297847,
          12.354496960983985,
          11.561725152903833,
          12.016732516077072,
          12.521981322562505,
          13.05301544288996,
          12.429220196836383,
          12.384223015005313,
          11.418625774449596,
          11.669937760751914,
          11.326607934898927,
          12.02874460037869,
          10.97679912709094,
          12.377927112974284,
          11.964007453736912,
          11.626263078808801,
          11.561725152903833,
          11.74006900564972,
          12.429220196836383,
          11.820417517632333,
          12.84132849667433,
          11.782960235741939,
          12.367345048436391,
          11.728044909070785,
          11.719947764402807,
          12.001511614739405,
          12.415437707935368,
          12.546871224308068,
          11.982935344196433,
          11.83138646878959,
          11.835016210489899,
          11.831022768939789,
          11.695255355062795,
          12.170450649220749,
          12.174994689959313,
          12.552930054797935,
          11.561725152903833,
          12.524530013005734,
          11.798111925972618,
          11.626263078808801,
          11.74006900564972,
          12.278397958261774,
          12.345838935721968,
          11.849404844423074,
          11.407576060361786,
          12.456835254920371,
          12.240478903153711,
          12.077676615757813,
          11.715874472198905,
          12.73670383776449,
          11.728044909070785,
          12.314931534737134,
          12.100161978566867,
          11.755879486687116,
          11.824087219587643,
          12.524420916542532,
          11.87757552297847,
          11.863589378812122,
          12.509877789891931,
          11.849404844423074,
          11.686887175419702,
          12.116700301832573,
          12.165984756488543,
          11.87583791515714,
          11.07443600653965,
          12.136191879981927,
          11.982935344196433,
          12.066816325306588,
          11.699413330633599,
          12.885673487343764,
          11.916395250412128,
          12.190964083849375,
          12.160033942617156,
          11.913719681428494,
          12.644330802262578,
          11.703554089007538,
          12.098493002763465,
          11.767575435251748,
          11.969723533345908,
          12.388398368982115,
          11.626263078808801,
          11.429554725537322,
          11.820417517632333,
          12.567554517655415,
          11.884495917930655,
          11.344518647594766,
          12.128116509451258,
          12.07254696717504,
          12.25486757159303,
          12.493133274926212,
          11.864469267087891,
          11.901590234400047
         ],
         "xaxis": "x",
         "yaxis": "y"
        }
       ],
       "layout": {
        "barmode": "relative",
        "legend": {
         "title": {
          "text": "variable"
         },
         "tracegroupgap": 0
        },
        "margin": {
         "t": 60
        },
        "template": {
         "data": {
          "bar": [
           {
            "error_x": {
             "color": "#2a3f5f"
            },
            "error_y": {
             "color": "#2a3f5f"
            },
            "marker": {
             "line": {
              "color": "#E5ECF6",
              "width": 0.5
             },
             "pattern": {
              "fillmode": "overlay",
              "size": 10,
              "solidity": 0.2
             }
            },
            "type": "bar"
           }
          ],
          "barpolar": [
           {
            "marker": {
             "line": {
              "color": "#E5ECF6",
              "width": 0.5
             },
             "pattern": {
              "fillmode": "overlay",
              "size": 10,
              "solidity": 0.2
             }
            },
            "type": "barpolar"
           }
          ],
          "carpet": [
           {
            "aaxis": {
             "endlinecolor": "#2a3f5f",
             "gridcolor": "white",
             "linecolor": "white",
             "minorgridcolor": "white",
             "startlinecolor": "#2a3f5f"
            },
            "baxis": {
             "endlinecolor": "#2a3f5f",
             "gridcolor": "white",
             "linecolor": "white",
             "minorgridcolor": "white",
             "startlinecolor": "#2a3f5f"
            },
            "type": "carpet"
           }
          ],
          "choropleth": [
           {
            "colorbar": {
             "outlinewidth": 0,
             "ticks": ""
            },
            "type": "choropleth"
           }
          ],
          "contour": [
           {
            "colorbar": {
             "outlinewidth": 0,
             "ticks": ""
            },
            "colorscale": [
             [
              0,
              "#0d0887"
             ],
             [
              0.1111111111111111,
              "#46039f"
             ],
             [
              0.2222222222222222,
              "#7201a8"
             ],
             [
              0.3333333333333333,
              "#9c179e"
             ],
             [
              0.4444444444444444,
              "#bd3786"
             ],
             [
              0.5555555555555556,
              "#d8576b"
             ],
             [
              0.6666666666666666,
              "#ed7953"
             ],
             [
              0.7777777777777778,
              "#fb9f3a"
             ],
             [
              0.8888888888888888,
              "#fdca26"
             ],
             [
              1,
              "#f0f921"
             ]
            ],
            "type": "contour"
           }
          ],
          "contourcarpet": [
           {
            "colorbar": {
             "outlinewidth": 0,
             "ticks": ""
            },
            "type": "contourcarpet"
           }
          ],
          "heatmap": [
           {
            "colorbar": {
             "outlinewidth": 0,
             "ticks": ""
            },
            "colorscale": [
             [
              0,
              "#0d0887"
             ],
             [
              0.1111111111111111,
              "#46039f"
             ],
             [
              0.2222222222222222,
              "#7201a8"
             ],
             [
              0.3333333333333333,
              "#9c179e"
             ],
             [
              0.4444444444444444,
              "#bd3786"
             ],
             [
              0.5555555555555556,
              "#d8576b"
             ],
             [
              0.6666666666666666,
              "#ed7953"
             ],
             [
              0.7777777777777778,
              "#fb9f3a"
             ],
             [
              0.8888888888888888,
              "#fdca26"
             ],
             [
              1,
              "#f0f921"
             ]
            ],
            "type": "heatmap"
           }
          ],
          "heatmapgl": [
           {
            "colorbar": {
             "outlinewidth": 0,
             "ticks": ""
            },
            "colorscale": [
             [
              0,
              "#0d0887"
             ],
             [
              0.1111111111111111,
              "#46039f"
             ],
             [
              0.2222222222222222,
              "#7201a8"
             ],
             [
              0.3333333333333333,
              "#9c179e"
             ],
             [
              0.4444444444444444,
              "#bd3786"
             ],
             [
              0.5555555555555556,
              "#d8576b"
             ],
             [
              0.6666666666666666,
              "#ed7953"
             ],
             [
              0.7777777777777778,
              "#fb9f3a"
             ],
             [
              0.8888888888888888,
              "#fdca26"
             ],
             [
              1,
              "#f0f921"
             ]
            ],
            "type": "heatmapgl"
           }
          ],
          "histogram": [
           {
            "marker": {
             "pattern": {
              "fillmode": "overlay",
              "size": 10,
              "solidity": 0.2
             }
            },
            "type": "histogram"
           }
          ],
          "histogram2d": [
           {
            "colorbar": {
             "outlinewidth": 0,
             "ticks": ""
            },
            "colorscale": [
             [
              0,
              "#0d0887"
             ],
             [
              0.1111111111111111,
              "#46039f"
             ],
             [
              0.2222222222222222,
              "#7201a8"
             ],
             [
              0.3333333333333333,
              "#9c179e"
             ],
             [
              0.4444444444444444,
              "#bd3786"
             ],
             [
              0.5555555555555556,
              "#d8576b"
             ],
             [
              0.6666666666666666,
              "#ed7953"
             ],
             [
              0.7777777777777778,
              "#fb9f3a"
             ],
             [
              0.8888888888888888,
              "#fdca26"
             ],
             [
              1,
              "#f0f921"
             ]
            ],
            "type": "histogram2d"
           }
          ],
          "histogram2dcontour": [
           {
            "colorbar": {
             "outlinewidth": 0,
             "ticks": ""
            },
            "colorscale": [
             [
              0,
              "#0d0887"
             ],
             [
              0.1111111111111111,
              "#46039f"
             ],
             [
              0.2222222222222222,
              "#7201a8"
             ],
             [
              0.3333333333333333,
              "#9c179e"
             ],
             [
              0.4444444444444444,
              "#bd3786"
             ],
             [
              0.5555555555555556,
              "#d8576b"
             ],
             [
              0.6666666666666666,
              "#ed7953"
             ],
             [
              0.7777777777777778,
              "#fb9f3a"
             ],
             [
              0.8888888888888888,
              "#fdca26"
             ],
             [
              1,
              "#f0f921"
             ]
            ],
            "type": "histogram2dcontour"
           }
          ],
          "mesh3d": [
           {
            "colorbar": {
             "outlinewidth": 0,
             "ticks": ""
            },
            "type": "mesh3d"
           }
          ],
          "parcoords": [
           {
            "line": {
             "colorbar": {
              "outlinewidth": 0,
              "ticks": ""
             }
            },
            "type": "parcoords"
           }
          ],
          "pie": [
           {
            "automargin": true,
            "type": "pie"
           }
          ],
          "scatter": [
           {
            "fillpattern": {
             "fillmode": "overlay",
             "size": 10,
             "solidity": 0.2
            },
            "type": "scatter"
           }
          ],
          "scatter3d": [
           {
            "line": {
             "colorbar": {
              "outlinewidth": 0,
              "ticks": ""
             }
            },
            "marker": {
             "colorbar": {
              "outlinewidth": 0,
              "ticks": ""
             }
            },
            "type": "scatter3d"
           }
          ],
          "scattercarpet": [
           {
            "marker": {
             "colorbar": {
              "outlinewidth": 0,
              "ticks": ""
             }
            },
            "type": "scattercarpet"
           }
          ],
          "scattergeo": [
           {
            "marker": {
             "colorbar": {
              "outlinewidth": 0,
              "ticks": ""
             }
            },
            "type": "scattergeo"
           }
          ],
          "scattergl": [
           {
            "marker": {
             "colorbar": {
              "outlinewidth": 0,
              "ticks": ""
             }
            },
            "type": "scattergl"
           }
          ],
          "scattermapbox": [
           {
            "marker": {
             "colorbar": {
              "outlinewidth": 0,
              "ticks": ""
             }
            },
            "type": "scattermapbox"
           }
          ],
          "scatterpolar": [
           {
            "marker": {
             "colorbar": {
              "outlinewidth": 0,
              "ticks": ""
             }
            },
            "type": "scatterpolar"
           }
          ],
          "scatterpolargl": [
           {
            "marker": {
             "colorbar": {
              "outlinewidth": 0,
              "ticks": ""
             }
            },
            "type": "scatterpolargl"
           }
          ],
          "scatterternary": [
           {
            "marker": {
             "colorbar": {
              "outlinewidth": 0,
              "ticks": ""
             }
            },
            "type": "scatterternary"
           }
          ],
          "surface": [
           {
            "colorbar": {
             "outlinewidth": 0,
             "ticks": ""
            },
            "colorscale": [
             [
              0,
              "#0d0887"
             ],
             [
              0.1111111111111111,
              "#46039f"
             ],
             [
              0.2222222222222222,
              "#7201a8"
             ],
             [
              0.3333333333333333,
              "#9c179e"
             ],
             [
              0.4444444444444444,
              "#bd3786"
             ],
             [
              0.5555555555555556,
              "#d8576b"
             ],
             [
              0.6666666666666666,
              "#ed7953"
             ],
             [
              0.7777777777777778,
              "#fb9f3a"
             ],
             [
              0.8888888888888888,
              "#fdca26"
             ],
             [
              1,
              "#f0f921"
             ]
            ],
            "type": "surface"
           }
          ],
          "table": [
           {
            "cells": {
             "fill": {
              "color": "#EBF0F8"
             },
             "line": {
              "color": "white"
             }
            },
            "header": {
             "fill": {
              "color": "#C8D4E3"
             },
             "line": {
              "color": "white"
             }
            },
            "type": "table"
           }
          ]
         },
         "layout": {
          "annotationdefaults": {
           "arrowcolor": "#2a3f5f",
           "arrowhead": 0,
           "arrowwidth": 1
          },
          "autotypenumbers": "strict",
          "coloraxis": {
           "colorbar": {
            "outlinewidth": 0,
            "ticks": ""
           }
          },
          "colorscale": {
           "diverging": [
            [
             0,
             "#8e0152"
            ],
            [
             0.1,
             "#c51b7d"
            ],
            [
             0.2,
             "#de77ae"
            ],
            [
             0.3,
             "#f1b6da"
            ],
            [
             0.4,
             "#fde0ef"
            ],
            [
             0.5,
             "#f7f7f7"
            ],
            [
             0.6,
             "#e6f5d0"
            ],
            [
             0.7,
             "#b8e186"
            ],
            [
             0.8,
             "#7fbc41"
            ],
            [
             0.9,
             "#4d9221"
            ],
            [
             1,
             "#276419"
            ]
           ],
           "sequential": [
            [
             0,
             "#0d0887"
            ],
            [
             0.1111111111111111,
             "#46039f"
            ],
            [
             0.2222222222222222,
             "#7201a8"
            ],
            [
             0.3333333333333333,
             "#9c179e"
            ],
            [
             0.4444444444444444,
             "#bd3786"
            ],
            [
             0.5555555555555556,
             "#d8576b"
            ],
            [
             0.6666666666666666,
             "#ed7953"
            ],
            [
             0.7777777777777778,
             "#fb9f3a"
            ],
            [
             0.8888888888888888,
             "#fdca26"
            ],
            [
             1,
             "#f0f921"
            ]
           ],
           "sequentialminus": [
            [
             0,
             "#0d0887"
            ],
            [
             0.1111111111111111,
             "#46039f"
            ],
            [
             0.2222222222222222,
             "#7201a8"
            ],
            [
             0.3333333333333333,
             "#9c179e"
            ],
            [
             0.4444444444444444,
             "#bd3786"
            ],
            [
             0.5555555555555556,
             "#d8576b"
            ],
            [
             0.6666666666666666,
             "#ed7953"
            ],
            [
             0.7777777777777778,
             "#fb9f3a"
            ],
            [
             0.8888888888888888,
             "#fdca26"
            ],
            [
             1,
             "#f0f921"
            ]
           ]
          },
          "colorway": [
           "#636efa",
           "#EF553B",
           "#00cc96",
           "#ab63fa",
           "#FFA15A",
           "#19d3f3",
           "#FF6692",
           "#B6E880",
           "#FF97FF",
           "#FECB52"
          ],
          "font": {
           "color": "#2a3f5f"
          },
          "geo": {
           "bgcolor": "white",
           "lakecolor": "white",
           "landcolor": "#E5ECF6",
           "showlakes": true,
           "showland": true,
           "subunitcolor": "white"
          },
          "hoverlabel": {
           "align": "left"
          },
          "hovermode": "closest",
          "mapbox": {
           "style": "light"
          },
          "paper_bgcolor": "white",
          "plot_bgcolor": "#E5ECF6",
          "polar": {
           "angularaxis": {
            "gridcolor": "white",
            "linecolor": "white",
            "ticks": ""
           },
           "bgcolor": "#E5ECF6",
           "radialaxis": {
            "gridcolor": "white",
            "linecolor": "white",
            "ticks": ""
           }
          },
          "scene": {
           "xaxis": {
            "backgroundcolor": "#E5ECF6",
            "gridcolor": "white",
            "gridwidth": 2,
            "linecolor": "white",
            "showbackground": true,
            "ticks": "",
            "zerolinecolor": "white"
           },
           "yaxis": {
            "backgroundcolor": "#E5ECF6",
            "gridcolor": "white",
            "gridwidth": 2,
            "linecolor": "white",
            "showbackground": true,
            "ticks": "",
            "zerolinecolor": "white"
           },
           "zaxis": {
            "backgroundcolor": "#E5ECF6",
            "gridcolor": "white",
            "gridwidth": 2,
            "linecolor": "white",
            "showbackground": true,
            "ticks": "",
            "zerolinecolor": "white"
           }
          },
          "shapedefaults": {
           "line": {
            "color": "#2a3f5f"
           }
          },
          "ternary": {
           "aaxis": {
            "gridcolor": "white",
            "linecolor": "white",
            "ticks": ""
           },
           "baxis": {
            "gridcolor": "white",
            "linecolor": "white",
            "ticks": ""
           },
           "bgcolor": "#E5ECF6",
           "caxis": {
            "gridcolor": "white",
            "linecolor": "white",
            "ticks": ""
           }
          },
          "title": {
           "x": 0.05
          },
          "xaxis": {
           "automargin": true,
           "gridcolor": "white",
           "linecolor": "white",
           "ticks": "",
           "title": {
            "standoff": 15
           },
           "zerolinecolor": "white",
           "zerolinewidth": 2
          },
          "yaxis": {
           "automargin": true,
           "gridcolor": "white",
           "linecolor": "white",
           "ticks": "",
           "title": {
            "standoff": 15
           },
           "zerolinecolor": "white",
           "zerolinewidth": 2
          }
         }
        },
        "xaxis": {
         "anchor": "y",
         "domain": [
          0,
          1
         ],
         "title": {
          "text": "value"
         }
        },
        "yaxis": {
         "anchor": "x",
         "domain": [
          0,
          1
         ],
         "title": {
          "text": "count"
         }
        }
       }
      }
     },
     "metadata": {},
     "output_type": "display_data"
    }
   ],
   "source": [
    "px.histogram(prices['log(price + 1)'])\n"
   ]
  },
  {
   "cell_type": "code",
   "execution_count": 10,
   "metadata": {},
   "outputs": [
    {
     "data": {
      "application/vnd.plotly.v1+json": {
       "config": {
        "plotlyServerURL": "https://plot.ly"
       },
       "data": [
        {
         "alignmentgroup": "True",
         "bingroup": "x",
         "hovertemplate": "variable=price<br>value=%{x}<br>count=%{y}<extra></extra>",
         "legendgroup": "price",
         "marker": {
          "color": "#636efa",
          "pattern": {
           "shape": ""
          }
         },
         "name": "price",
         "offsetgroup": "price",
         "orientation": "v",
         "showlegend": true,
         "type": "histogram",
         "x": [
          208500,
          181500,
          223500,
          140000,
          250000,
          143000,
          307000,
          200000,
          129900,
          118000,
          129500,
          345000,
          144000,
          279500,
          157000,
          132000,
          149000,
          90000,
          159000,
          139000,
          325300,
          139400,
          230000,
          129900,
          154000,
          256300,
          134800,
          306000,
          207500,
          68500,
          40000,
          149350,
          179900,
          165500,
          277500,
          309000,
          145000,
          153000,
          109000,
          82000,
          160000,
          170000,
          144000,
          130250,
          141000,
          319900,
          239686,
          249700,
          113000,
          127000,
          177000,
          114500,
          110000,
          385000,
          130000,
          180500,
          172500,
          196500,
          438780,
          124900,
          158000,
          101000,
          202500,
          140000,
          219500,
          317000,
          180000,
          226000,
          80000,
          225000,
          244000,
          129500,
          185000,
          144900,
          107400,
          91000,
          135750,
          127000,
          136500,
          110000,
          193500,
          153500,
          245000,
          126500,
          168500,
          260000,
          174000,
          164500,
          85000,
          123600,
          109900,
          98600,
          163500,
          133900,
          204750,
          185000,
          214000,
          94750,
          83000,
          128950,
          205000,
          178000,
          118964,
          198900,
          169500,
          250000,
          100000,
          115000,
          115000,
          190000,
          136900,
          180000,
          383970,
          217000,
          259500,
          176000,
          139000,
          155000,
          320000,
          163990,
          180000,
          100000,
          136000,
          153900,
          181000,
          84500,
          128000,
          87000,
          155000,
          150000,
          226000,
          244000,
          150750,
          220000,
          180000,
          174000,
          143000,
          171000,
          230000,
          231500,
          115000,
          260000,
          166000,
          204000,
          125000,
          130000,
          105000,
          222500,
          141000,
          115000,
          122000,
          372402,
          190000,
          235000,
          125000,
          79000,
          109500,
          269500,
          254900,
          320000,
          162500,
          412500,
          220000,
          103200,
          152000,
          127500,
          190000,
          325624,
          183500,
          228000,
          128500,
          215000,
          239000,
          163000,
          184000,
          243000,
          211000,
          172500,
          501837,
          100000,
          177000,
          200100,
          120000,
          200000,
          127000,
          475000,
          173000,
          135000,
          153337,
          286000,
          315000,
          184000,
          192000,
          130000,
          127000,
          148500,
          311872,
          235000,
          104000,
          274900,
          140000,
          171500,
          112000,
          149000,
          110000,
          180500,
          143900,
          141000,
          277000,
          145000,
          98000,
          186000,
          252678,
          156000,
          161750,
          134450,
          210000,
          107000,
          311500,
          167240,
          204900,
          200000,
          179900,
          97000,
          386250,
          112000,
          290000,
          106000,
          125000,
          192500,
          148000,
          403000,
          94500,
          128200,
          216500,
          89500,
          185500,
          194500,
          318000,
          113000,
          262500,
          110500,
          79000,
          120000,
          205000,
          241500,
          137000,
          140000,
          180000,
          277000,
          76500,
          235000,
          173000,
          158000,
          145000,
          230000,
          207500,
          220000,
          231500,
          97000,
          176000,
          276000,
          151000,
          130000,
          73000,
          175500,
          185000,
          179500,
          120500,
          148000,
          266000,
          241500,
          290000,
          139000,
          124500,
          205000,
          201000,
          141000,
          415298,
          192000,
          228500,
          185000,
          207500,
          244600,
          179200,
          164700,
          159000,
          88000,
          122000,
          153575,
          233230,
          135900,
          131000,
          235000,
          167000,
          142500,
          152000,
          239000,
          175000,
          158500,
          157000,
          267000,
          205000,
          149900,
          295000,
          305900,
          225000,
          89500,
          82500,
          360000,
          165600,
          132000,
          119900,
          375000,
          178000,
          188500,
          260000,
          270000,
          260000,
          187500,
          342643,
          354000,
          301000,
          126175,
          242000,
          87000,
          324000,
          145250,
          214500,
          78000,
          119000,
          139000,
          284000,
          207000,
          192000,
          228950,
          377426,
          214000,
          202500,
          155000,
          202900,
          82000,
          87500,
          266000,
          85000,
          140200,
          151500,
          157500,
          154000,
          437154,
          318061,
          190000,
          95000,
          105900,
          140000,
          177500,
          173000,
          134000,
          130000,
          280000,
          156000,
          145000,
          198500,
          118000,
          190000,
          147000,
          159000,
          165000,
          132000,
          162000,
          172400,
          134432,
          125000,
          123000,
          219500,
          61000,
          148000,
          340000,
          394432,
          179000,
          127000,
          187750,
          213500,
          76000,
          240000,
          192000,
          81000,
          125000,
          191000,
          426000,
          119000,
          215000,
          106500,
          100000,
          109000,
          129000,
          123000,
          169500,
          67000,
          241000,
          245500,
          164990,
          108000,
          258000,
          168000,
          150000,
          115000,
          177000,
          280000,
          339750,
          60000,
          145000,
          222000,
          115000,
          228000,
          181134,
          149500,
          239000,
          126000,
          142000,
          206300,
          215000,
          113000,
          315000,
          139000,
          135000,
          275000,
          109008,
          195400,
          175000,
          85400,
          79900,
          122500,
          181000,
          81000,
          212000,
          116000,
          119000,
          90350,
          110000,
          555000,
          118000,
          162900,
          172500,
          210000,
          127500,
          190000,
          199900,
          119500,
          120000,
          110000,
          280000,
          204000,
          210000,
          188000,
          175500,
          98000,
          256000,
          161000,
          110000,
          263435,
          155000,
          62383,
          188700,
          124000,
          178740,
          167000,
          146500,
          250000,
          187000,
          212000,
          190000,
          148000,
          440000,
          251000,
          132500,
          208900,
          380000,
          297000,
          89471,
          326000,
          374000,
          155000,
          164000,
          132500,
          147000,
          156000,
          175000,
          160000,
          86000,
          115000,
          133000,
          172785,
          155000,
          91300,
          34900,
          430000,
          184000,
          130000,
          120000,
          113000,
          226700,
          140000,
          289000,
          147000,
          124500,
          215000,
          208300,
          161000,
          124500,
          164900,
          202665,
          129900,
          134000,
          96500,
          402861,
          158000,
          265000,
          211000,
          234000,
          106250,
          150000,
          159000,
          184750,
          315750,
          176000,
          132000,
          446261,
          86000,
          200624,
          175000,
          128000,
          107500,
          39300,
          178000,
          107500,
          188000,
          111250,
          158000,
          272000,
          315000,
          248000,
          213250,
          133000,
          179665,
          229000,
          210000,
          129500,
          125000,
          263000,
          140000,
          112500,
          255500,
          108000,
          284000,
          113000,
          141000,
          108000,
          175000,
          234000,
          121500,
          170000,
          108000,
          185000,
          268000,
          128000,
          325000,
          214000,
          316600,
          135960,
          142600,
          120000,
          224500,
          170000,
          139000,
          118500,
          145000,
          164500,
          146000,
          131500,
          181900,
          253293,
          118500,
          325000,
          133000,
          369900,
          130000,
          137000,
          143000,
          79500,
          185900,
          451950,
          138000,
          140000,
          110000,
          319000,
          114504,
          194201,
          217500,
          151000,
          275000,
          141000,
          220000,
          151000,
          221000,
          205000,
          152000,
          225000,
          359100,
          118500,
          313000,
          148000,
          261500,
          147000,
          75500,
          137500,
          183200,
          105500,
          314813,
          305000,
          67000,
          240000,
          135000,
          168500,
          165150,
          160000,
          139900,
          153000,
          135000,
          168500,
          124000,
          209500,
          82500,
          139400,
          144000,
          200000,
          60000,
          93000,
          85000,
          264561,
          274000,
          226000,
          345000,
          152000,
          370878,
          143250,
          98300,
          155000,
          155000,
          84500,
          205950,
          108000,
          191000,
          135000,
          350000,
          88000,
          145500,
          149000,
          97500,
          167000,
          197900,
          402000,
          110000,
          137500,
          423000,
          230500,
          129000,
          193500,
          168000,
          137500,
          173500,
          103600,
          165000,
          257500,
          140000,
          148500,
          87000,
          109500,
          372500,
          128500,
          143000,
          159434,
          173000,
          285000,
          221000,
          207500,
          227875,
          148800,
          392000,
          194700,
          141000,
          755000,
          335000,
          108480,
          141500,
          176000,
          89000,
          123500,
          138500,
          196000,
          312500,
          140000,
          361919,
          140000,
          213000,
          55000,
          302000,
          254000,
          179540,
          109900,
          52000,
          102776,
          189000,
          129000,
          130500,
          165000,
          159500,
          157000,
          341000,
          128500,
          275000,
          143000,
          124500,
          135000,
          320000,
          120500,
          222000,
          194500,
          110000,
          103000,
          236500,
          187500,
          222500,
          131400,
          108000,
          163000,
          93500,
          239900,
          179000,
          190000,
          132000,
          142000,
          179000,
          175000,
          180000,
          299800,
          236000,
          265979,
          260400,
          98000,
          96500,
          162000,
          217000,
          275500,
          156000,
          172500,
          212000,
          158900,
          179400,
          290000,
          127500,
          100000,
          215200,
          337000,
          270000,
          264132,
          196500,
          160000,
          216837,
          538000,
          134900,
          102000,
          107000,
          114500,
          395000,
          162000,
          221500,
          142500,
          144000,
          135000,
          176000,
          175900,
          187100,
          165500,
          128000,
          161500,
          139000,
          233000,
          107900,
          187500,
          160200,
          146800,
          269790,
          225000,
          194500,
          171000,
          143500,
          110000,
          485000,
          175000,
          200000,
          109900,
          189000,
          582933,
          118000,
          227680,
          135500,
          223500,
          159950,
          106000,
          181000,
          144500,
          55993,
          157900,
          116000,
          224900,
          137000,
          271000,
          155000,
          224000,
          183000,
          93000,
          225000,
          139500,
          232600,
          385000,
          109500,
          189000,
          185000,
          147400,
          166000,
          151000,
          237000,
          167000,
          139950,
          128000,
          153500,
          100000,
          144000,
          130500,
          140000,
          157500,
          174900,
          141000,
          153900,
          171000,
          213000,
          133500,
          240000,
          187000,
          131500,
          215000,
          164000,
          158000,
          170000,
          127000,
          147000,
          174000,
          152000,
          250000,
          189950,
          131500,
          152000,
          132500,
          250580,
          148500,
          248900,
          129000,
          169000,
          236000,
          109500,
          200500,
          116000,
          133000,
          66500,
          303477,
          132250,
          350000,
          148000,
          136500,
          157000,
          187500,
          178000,
          118500,
          100000,
          328900,
          145000,
          135500,
          268000,
          149500,
          122900,
          172500,
          154500,
          165000,
          118858,
          140000,
          106500,
          142953,
          611657,
          135000,
          110000,
          153000,
          180000,
          240000,
          125500,
          128000,
          255000,
          250000,
          131000,
          174000,
          154300,
          143500,
          88000,
          145000,
          173733,
          75000,
          35311,
          135000,
          238000,
          176500,
          201000,
          145900,
          169990,
          193000,
          207500,
          175000,
          285000,
          176000,
          236500,
          222000,
          201000,
          117500,
          320000,
          190000,
          242000,
          79900,
          184900,
          253000,
          239799,
          244400,
          150900,
          214000,
          150000,
          143000,
          137500,
          124900,
          143000,
          270000,
          192500,
          197500,
          129000,
          119900,
          133900,
          172000,
          127500,
          145000,
          124000,
          132000,
          185000,
          155000,
          116500,
          272000,
          155000,
          239000,
          214900,
          178900,
          160000,
          135000,
          37900,
          140000,
          135000,
          173000,
          99500,
          182000,
          167500,
          165000,
          85500,
          199900,
          110000,
          139000,
          178400,
          336000,
          159895,
          255900,
          126000,
          125000,
          117000,
          395192,
          195000,
          197000,
          348000,
          168000,
          187000,
          173900,
          337500,
          121600,
          136500,
          185000,
          91000,
          206000,
          82000,
          86000,
          232000,
          136905,
          181000,
          149900,
          163500,
          88000,
          240000,
          102000,
          135000,
          100000,
          165000,
          85000,
          119200,
          227000,
          203000,
          187500,
          160000,
          213490,
          176000,
          194000,
          87000,
          191000,
          287000,
          112500,
          167500,
          293077,
          105000,
          118000,
          160000,
          197000,
          310000,
          230000,
          119750,
          84000,
          315500,
          287000,
          97000,
          80000,
          155000,
          173000,
          196000,
          262280,
          278000,
          139600,
          556581,
          145000,
          115000,
          84900,
          176485,
          200141,
          165000,
          144500,
          255000,
          180000,
          185850,
          248000,
          335000,
          220000,
          213500,
          81000,
          90000,
          110500,
          154000,
          328000,
          178000,
          167900,
          151400,
          135000,
          135000,
          154000,
          91500,
          159500,
          194000,
          219500,
          170000,
          138800,
          155900,
          126000,
          145000,
          133000,
          192000,
          160000,
          187500,
          147000,
          83500,
          252000,
          137500,
          197000,
          92900,
          160000,
          136500,
          146000,
          129000,
          176432,
          127000,
          170000,
          128000,
          157000,
          60000,
          119500,
          135000,
          159500,
          106000,
          325000,
          179900,
          274725,
          181000,
          280000,
          188000,
          205000,
          129900,
          134500,
          117000,
          318000,
          184100,
          130000,
          140000,
          133700,
          118400,
          212900,
          112000,
          118000,
          163900,
          115000,
          174000,
          259000,
          215000,
          140000,
          135000,
          93500,
          117500,
          239500,
          169000,
          102000,
          119000,
          94000,
          196000,
          144000,
          139000,
          197500,
          424870,
          80000,
          80000,
          149000,
          180000,
          174500,
          116900,
          143000,
          124000,
          149900,
          230000,
          120500,
          201800,
          218000,
          179900,
          230000,
          235128,
          185000,
          146000,
          224000,
          129000,
          108959,
          194000,
          233170,
          245350,
          173000,
          235000,
          625000,
          171000,
          163000,
          171900,
          200500,
          239000,
          285000,
          119500,
          115000,
          154900,
          93000,
          250000,
          392500,
          745000,
          120000,
          186700,
          104900,
          95000,
          262000,
          195000,
          189000,
          168000,
          174000,
          125000,
          165000,
          158000,
          176000,
          219210,
          144000,
          178000,
          148000,
          116050,
          197900,
          117000,
          213000,
          153500,
          271900,
          107000,
          200000,
          140000,
          290000,
          189000,
          164000,
          113000,
          145000,
          134500,
          125000,
          112000,
          229456,
          80500,
          91500,
          115000,
          134000,
          143000,
          137900,
          184000,
          145000,
          214000,
          147000,
          367294,
          127000,
          190000,
          132500,
          101800,
          142000,
          130000,
          138887,
          175500,
          195000,
          142500,
          265900,
          224900,
          248328,
          170000,
          465000,
          230000,
          178000,
          186500,
          169900,
          129500,
          119000,
          244000,
          171750,
          130000,
          294000,
          165400,
          127500,
          301500,
          99900,
          190000,
          151000,
          181000,
          128900,
          161500,
          180500,
          181000,
          183900,
          122000,
          378500,
          381000,
          144000,
          260000,
          185750,
          137000,
          177000,
          139000,
          137000,
          162000,
          197900,
          237000,
          68400,
          227000,
          180000,
          150500,
          139000,
          169000,
          132500,
          143000,
          190000,
          278000,
          281000,
          180500,
          119500,
          107500,
          162900,
          115000,
          138500,
          155000,
          140000,
          160000,
          154000,
          225000,
          177500,
          290000,
          232000,
          130000,
          325000,
          202500,
          138000,
          147000,
          179200,
          335000,
          203000,
          302000,
          333168,
          119000,
          206900,
          295493,
          208900,
          275000,
          111000,
          156500,
          72500,
          190000,
          82500,
          147000,
          55000,
          79000,
          130500,
          256000,
          176500,
          227000,
          132500,
          100000,
          125500,
          125000,
          167900,
          135000,
          52500,
          200000,
          128500,
          123000,
          155000,
          228500,
          177000,
          155835,
          108500,
          262500,
          283463,
          215000,
          122000,
          200000,
          171000,
          134900,
          410000,
          235000,
          170000,
          110000,
          149900,
          177500,
          315000,
          189000,
          260000,
          104900,
          156932,
          144152,
          216000,
          193000,
          127000,
          144000,
          232000,
          105000,
          165500,
          274300,
          466500,
          250000,
          239000,
          91000,
          117000,
          83000,
          167500,
          58500,
          237500,
          157000,
          112000,
          105000,
          125500,
          250000,
          136000,
          377500,
          131000,
          235000,
          124000,
          123000,
          163000,
          246578,
          281213,
          160000,
          137500,
          138000,
          137450,
          120000,
          193000,
          193879,
          282922,
          105000,
          275000,
          133000,
          112000,
          125500,
          215000,
          230000,
          140000,
          90000,
          257000,
          207000,
          175900,
          122500,
          340000,
          124000,
          223000,
          179900,
          127500,
          136500,
          274970,
          144000,
          142000,
          271000,
          140000,
          119000,
          182900,
          192140,
          143750,
          64500,
          186500,
          160000,
          174000,
          120500,
          394617,
          149700,
          197000,
          191000,
          149300,
          310000,
          121000,
          179600,
          129000,
          157900,
          240000,
          112000,
          92000,
          136000,
          287090,
          145000,
          84500,
          185000,
          175000,
          210000,
          266500,
          142125,
          147500
         ],
         "xaxis": "x",
         "yaxis": "y"
        }
       ],
       "layout": {
        "barmode": "relative",
        "legend": {
         "title": {
          "text": "variable"
         },
         "tracegroupgap": 0
        },
        "margin": {
         "t": 60
        },
        "template": {
         "data": {
          "bar": [
           {
            "error_x": {
             "color": "#2a3f5f"
            },
            "error_y": {
             "color": "#2a3f5f"
            },
            "marker": {
             "line": {
              "color": "#E5ECF6",
              "width": 0.5
             },
             "pattern": {
              "fillmode": "overlay",
              "size": 10,
              "solidity": 0.2
             }
            },
            "type": "bar"
           }
          ],
          "barpolar": [
           {
            "marker": {
             "line": {
              "color": "#E5ECF6",
              "width": 0.5
             },
             "pattern": {
              "fillmode": "overlay",
              "size": 10,
              "solidity": 0.2
             }
            },
            "type": "barpolar"
           }
          ],
          "carpet": [
           {
            "aaxis": {
             "endlinecolor": "#2a3f5f",
             "gridcolor": "white",
             "linecolor": "white",
             "minorgridcolor": "white",
             "startlinecolor": "#2a3f5f"
            },
            "baxis": {
             "endlinecolor": "#2a3f5f",
             "gridcolor": "white",
             "linecolor": "white",
             "minorgridcolor": "white",
             "startlinecolor": "#2a3f5f"
            },
            "type": "carpet"
           }
          ],
          "choropleth": [
           {
            "colorbar": {
             "outlinewidth": 0,
             "ticks": ""
            },
            "type": "choropleth"
           }
          ],
          "contour": [
           {
            "colorbar": {
             "outlinewidth": 0,
             "ticks": ""
            },
            "colorscale": [
             [
              0,
              "#0d0887"
             ],
             [
              0.1111111111111111,
              "#46039f"
             ],
             [
              0.2222222222222222,
              "#7201a8"
             ],
             [
              0.3333333333333333,
              "#9c179e"
             ],
             [
              0.4444444444444444,
              "#bd3786"
             ],
             [
              0.5555555555555556,
              "#d8576b"
             ],
             [
              0.6666666666666666,
              "#ed7953"
             ],
             [
              0.7777777777777778,
              "#fb9f3a"
             ],
             [
              0.8888888888888888,
              "#fdca26"
             ],
             [
              1,
              "#f0f921"
             ]
            ],
            "type": "contour"
           }
          ],
          "contourcarpet": [
           {
            "colorbar": {
             "outlinewidth": 0,
             "ticks": ""
            },
            "type": "contourcarpet"
           }
          ],
          "heatmap": [
           {
            "colorbar": {
             "outlinewidth": 0,
             "ticks": ""
            },
            "colorscale": [
             [
              0,
              "#0d0887"
             ],
             [
              0.1111111111111111,
              "#46039f"
             ],
             [
              0.2222222222222222,
              "#7201a8"
             ],
             [
              0.3333333333333333,
              "#9c179e"
             ],
             [
              0.4444444444444444,
              "#bd3786"
             ],
             [
              0.5555555555555556,
              "#d8576b"
             ],
             [
              0.6666666666666666,
              "#ed7953"
             ],
             [
              0.7777777777777778,
              "#fb9f3a"
             ],
             [
              0.8888888888888888,
              "#fdca26"
             ],
             [
              1,
              "#f0f921"
             ]
            ],
            "type": "heatmap"
           }
          ],
          "heatmapgl": [
           {
            "colorbar": {
             "outlinewidth": 0,
             "ticks": ""
            },
            "colorscale": [
             [
              0,
              "#0d0887"
             ],
             [
              0.1111111111111111,
              "#46039f"
             ],
             [
              0.2222222222222222,
              "#7201a8"
             ],
             [
              0.3333333333333333,
              "#9c179e"
             ],
             [
              0.4444444444444444,
              "#bd3786"
             ],
             [
              0.5555555555555556,
              "#d8576b"
             ],
             [
              0.6666666666666666,
              "#ed7953"
             ],
             [
              0.7777777777777778,
              "#fb9f3a"
             ],
             [
              0.8888888888888888,
              "#fdca26"
             ],
             [
              1,
              "#f0f921"
             ]
            ],
            "type": "heatmapgl"
           }
          ],
          "histogram": [
           {
            "marker": {
             "pattern": {
              "fillmode": "overlay",
              "size": 10,
              "solidity": 0.2
             }
            },
            "type": "histogram"
           }
          ],
          "histogram2d": [
           {
            "colorbar": {
             "outlinewidth": 0,
             "ticks": ""
            },
            "colorscale": [
             [
              0,
              "#0d0887"
             ],
             [
              0.1111111111111111,
              "#46039f"
             ],
             [
              0.2222222222222222,
              "#7201a8"
             ],
             [
              0.3333333333333333,
              "#9c179e"
             ],
             [
              0.4444444444444444,
              "#bd3786"
             ],
             [
              0.5555555555555556,
              "#d8576b"
             ],
             [
              0.6666666666666666,
              "#ed7953"
             ],
             [
              0.7777777777777778,
              "#fb9f3a"
             ],
             [
              0.8888888888888888,
              "#fdca26"
             ],
             [
              1,
              "#f0f921"
             ]
            ],
            "type": "histogram2d"
           }
          ],
          "histogram2dcontour": [
           {
            "colorbar": {
             "outlinewidth": 0,
             "ticks": ""
            },
            "colorscale": [
             [
              0,
              "#0d0887"
             ],
             [
              0.1111111111111111,
              "#46039f"
             ],
             [
              0.2222222222222222,
              "#7201a8"
             ],
             [
              0.3333333333333333,
              "#9c179e"
             ],
             [
              0.4444444444444444,
              "#bd3786"
             ],
             [
              0.5555555555555556,
              "#d8576b"
             ],
             [
              0.6666666666666666,
              "#ed7953"
             ],
             [
              0.7777777777777778,
              "#fb9f3a"
             ],
             [
              0.8888888888888888,
              "#fdca26"
             ],
             [
              1,
              "#f0f921"
             ]
            ],
            "type": "histogram2dcontour"
           }
          ],
          "mesh3d": [
           {
            "colorbar": {
             "outlinewidth": 0,
             "ticks": ""
            },
            "type": "mesh3d"
           }
          ],
          "parcoords": [
           {
            "line": {
             "colorbar": {
              "outlinewidth": 0,
              "ticks": ""
             }
            },
            "type": "parcoords"
           }
          ],
          "pie": [
           {
            "automargin": true,
            "type": "pie"
           }
          ],
          "scatter": [
           {
            "fillpattern": {
             "fillmode": "overlay",
             "size": 10,
             "solidity": 0.2
            },
            "type": "scatter"
           }
          ],
          "scatter3d": [
           {
            "line": {
             "colorbar": {
              "outlinewidth": 0,
              "ticks": ""
             }
            },
            "marker": {
             "colorbar": {
              "outlinewidth": 0,
              "ticks": ""
             }
            },
            "type": "scatter3d"
           }
          ],
          "scattercarpet": [
           {
            "marker": {
             "colorbar": {
              "outlinewidth": 0,
              "ticks": ""
             }
            },
            "type": "scattercarpet"
           }
          ],
          "scattergeo": [
           {
            "marker": {
             "colorbar": {
              "outlinewidth": 0,
              "ticks": ""
             }
            },
            "type": "scattergeo"
           }
          ],
          "scattergl": [
           {
            "marker": {
             "colorbar": {
              "outlinewidth": 0,
              "ticks": ""
             }
            },
            "type": "scattergl"
           }
          ],
          "scattermapbox": [
           {
            "marker": {
             "colorbar": {
              "outlinewidth": 0,
              "ticks": ""
             }
            },
            "type": "scattermapbox"
           }
          ],
          "scatterpolar": [
           {
            "marker": {
             "colorbar": {
              "outlinewidth": 0,
              "ticks": ""
             }
            },
            "type": "scatterpolar"
           }
          ],
          "scatterpolargl": [
           {
            "marker": {
             "colorbar": {
              "outlinewidth": 0,
              "ticks": ""
             }
            },
            "type": "scatterpolargl"
           }
          ],
          "scatterternary": [
           {
            "marker": {
             "colorbar": {
              "outlinewidth": 0,
              "ticks": ""
             }
            },
            "type": "scatterternary"
           }
          ],
          "surface": [
           {
            "colorbar": {
             "outlinewidth": 0,
             "ticks": ""
            },
            "colorscale": [
             [
              0,
              "#0d0887"
             ],
             [
              0.1111111111111111,
              "#46039f"
             ],
             [
              0.2222222222222222,
              "#7201a8"
             ],
             [
              0.3333333333333333,
              "#9c179e"
             ],
             [
              0.4444444444444444,
              "#bd3786"
             ],
             [
              0.5555555555555556,
              "#d8576b"
             ],
             [
              0.6666666666666666,
              "#ed7953"
             ],
             [
              0.7777777777777778,
              "#fb9f3a"
             ],
             [
              0.8888888888888888,
              "#fdca26"
             ],
             [
              1,
              "#f0f921"
             ]
            ],
            "type": "surface"
           }
          ],
          "table": [
           {
            "cells": {
             "fill": {
              "color": "#EBF0F8"
             },
             "line": {
              "color": "white"
             }
            },
            "header": {
             "fill": {
              "color": "#C8D4E3"
             },
             "line": {
              "color": "white"
             }
            },
            "type": "table"
           }
          ]
         },
         "layout": {
          "annotationdefaults": {
           "arrowcolor": "#2a3f5f",
           "arrowhead": 0,
           "arrowwidth": 1
          },
          "autotypenumbers": "strict",
          "coloraxis": {
           "colorbar": {
            "outlinewidth": 0,
            "ticks": ""
           }
          },
          "colorscale": {
           "diverging": [
            [
             0,
             "#8e0152"
            ],
            [
             0.1,
             "#c51b7d"
            ],
            [
             0.2,
             "#de77ae"
            ],
            [
             0.3,
             "#f1b6da"
            ],
            [
             0.4,
             "#fde0ef"
            ],
            [
             0.5,
             "#f7f7f7"
            ],
            [
             0.6,
             "#e6f5d0"
            ],
            [
             0.7,
             "#b8e186"
            ],
            [
             0.8,
             "#7fbc41"
            ],
            [
             0.9,
             "#4d9221"
            ],
            [
             1,
             "#276419"
            ]
           ],
           "sequential": [
            [
             0,
             "#0d0887"
            ],
            [
             0.1111111111111111,
             "#46039f"
            ],
            [
             0.2222222222222222,
             "#7201a8"
            ],
            [
             0.3333333333333333,
             "#9c179e"
            ],
            [
             0.4444444444444444,
             "#bd3786"
            ],
            [
             0.5555555555555556,
             "#d8576b"
            ],
            [
             0.6666666666666666,
             "#ed7953"
            ],
            [
             0.7777777777777778,
             "#fb9f3a"
            ],
            [
             0.8888888888888888,
             "#fdca26"
            ],
            [
             1,
             "#f0f921"
            ]
           ],
           "sequentialminus": [
            [
             0,
             "#0d0887"
            ],
            [
             0.1111111111111111,
             "#46039f"
            ],
            [
             0.2222222222222222,
             "#7201a8"
            ],
            [
             0.3333333333333333,
             "#9c179e"
            ],
            [
             0.4444444444444444,
             "#bd3786"
            ],
            [
             0.5555555555555556,
             "#d8576b"
            ],
            [
             0.6666666666666666,
             "#ed7953"
            ],
            [
             0.7777777777777778,
             "#fb9f3a"
            ],
            [
             0.8888888888888888,
             "#fdca26"
            ],
            [
             1,
             "#f0f921"
            ]
           ]
          },
          "colorway": [
           "#636efa",
           "#EF553B",
           "#00cc96",
           "#ab63fa",
           "#FFA15A",
           "#19d3f3",
           "#FF6692",
           "#B6E880",
           "#FF97FF",
           "#FECB52"
          ],
          "font": {
           "color": "#2a3f5f"
          },
          "geo": {
           "bgcolor": "white",
           "lakecolor": "white",
           "landcolor": "#E5ECF6",
           "showlakes": true,
           "showland": true,
           "subunitcolor": "white"
          },
          "hoverlabel": {
           "align": "left"
          },
          "hovermode": "closest",
          "mapbox": {
           "style": "light"
          },
          "paper_bgcolor": "white",
          "plot_bgcolor": "#E5ECF6",
          "polar": {
           "angularaxis": {
            "gridcolor": "white",
            "linecolor": "white",
            "ticks": ""
           },
           "bgcolor": "#E5ECF6",
           "radialaxis": {
            "gridcolor": "white",
            "linecolor": "white",
            "ticks": ""
           }
          },
          "scene": {
           "xaxis": {
            "backgroundcolor": "#E5ECF6",
            "gridcolor": "white",
            "gridwidth": 2,
            "linecolor": "white",
            "showbackground": true,
            "ticks": "",
            "zerolinecolor": "white"
           },
           "yaxis": {
            "backgroundcolor": "#E5ECF6",
            "gridcolor": "white",
            "gridwidth": 2,
            "linecolor": "white",
            "showbackground": true,
            "ticks": "",
            "zerolinecolor": "white"
           },
           "zaxis": {
            "backgroundcolor": "#E5ECF6",
            "gridcolor": "white",
            "gridwidth": 2,
            "linecolor": "white",
            "showbackground": true,
            "ticks": "",
            "zerolinecolor": "white"
           }
          },
          "shapedefaults": {
           "line": {
            "color": "#2a3f5f"
           }
          },
          "ternary": {
           "aaxis": {
            "gridcolor": "white",
            "linecolor": "white",
            "ticks": ""
           },
           "baxis": {
            "gridcolor": "white",
            "linecolor": "white",
            "ticks": ""
           },
           "bgcolor": "#E5ECF6",
           "caxis": {
            "gridcolor": "white",
            "linecolor": "white",
            "ticks": ""
           }
          },
          "title": {
           "x": 0.05
          },
          "xaxis": {
           "automargin": true,
           "gridcolor": "white",
           "linecolor": "white",
           "ticks": "",
           "title": {
            "standoff": 15
           },
           "zerolinecolor": "white",
           "zerolinewidth": 2
          },
          "yaxis": {
           "automargin": true,
           "gridcolor": "white",
           "linecolor": "white",
           "ticks": "",
           "title": {
            "standoff": 15
           },
           "zerolinecolor": "white",
           "zerolinewidth": 2
          }
         }
        },
        "xaxis": {
         "anchor": "y",
         "domain": [
          0,
          1
         ],
         "title": {
          "text": "value"
         }
        },
        "yaxis": {
         "anchor": "x",
         "domain": [
          0,
          1
         ],
         "title": {
          "text": "count"
         }
        }
       }
      }
     },
     "metadata": {},
     "output_type": "display_data"
    }
   ],
   "source": [
    "px.histogram(prices['price'])"
   ]
  },
  {
   "cell_type": "code",
   "execution_count": 11,
   "metadata": {},
   "outputs": [],
   "source": [
    "train[\"SalePrice\"] = np.log1p(train[\"SalePrice\"])\n",
    "\n",
    "#log transform skewed numeric features:\n",
    "numeric_feats = all_data.dtypes[all_data.dtypes != \"object\"].index\n",
    "\n",
    "skewed_feats = train[numeric_feats].apply(lambda x: skew(x.dropna())) #compute skewness\n",
    "skewed_feats = skewed_feats[skewed_feats > 0.75]\n",
    "skewed_feats = skewed_feats.index\n",
    "\n",
    "all_data[skewed_feats] = np.log1p(all_data[skewed_feats])"
   ]
  },
  {
   "cell_type": "code",
   "execution_count": 12,
   "metadata": {},
   "outputs": [],
   "source": [
    "all_data = pd.get_dummies(all_data)\n",
    "#filling NA's with the mean of the column:\n",
    "all_data = all_data.fillna(all_data.mean())"
   ]
  },
  {
   "cell_type": "code",
   "execution_count": 13,
   "metadata": {},
   "outputs": [],
   "source": [
    "#creating matrices for sklearn:\n",
    "X_train = all_data[:train.shape[0]]\n",
    "X_test = all_data[train.shape[0]:]\n",
    "y = train.SalePrice"
   ]
  },
  {
   "cell_type": "code",
   "execution_count": 14,
   "metadata": {},
   "outputs": [],
   "source": [
    "from sklearn.linear_model import Ridge, RidgeCV, ElasticNet, LassoCV, LassoLarsCV\n",
    "from sklearn.model_selection import cross_val_score\n",
    "\n",
    "def rmse_cv(model):\n",
    "    rmse= np.sqrt(-cross_val_score(model, X_train, y, scoring=\"neg_mean_squared_error\", cv = 5))\n",
    "    return(rmse)"
   ]
  },
  {
   "cell_type": "code",
   "execution_count": 15,
   "metadata": {},
   "outputs": [],
   "source": [
    "model_ridge = Ridge()"
   ]
  },
  {
   "cell_type": "code",
   "execution_count": 16,
   "metadata": {},
   "outputs": [],
   "source": [
    "alphas = [0.05, 0.1, 0.3, 1, 3, 5, 10, 15, 30, 50, 75]\n",
    "cv_ridge = [rmse_cv(Ridge(alpha = alpha)).mean() \n",
    "            for alpha in alphas]"
   ]
  },
  {
   "cell_type": "code",
   "execution_count": 17,
   "metadata": {},
   "outputs": [
    {
     "data": {
      "text/plain": [
       "Text(0, 0.5, 'rmse')"
      ]
     },
     "execution_count": 17,
     "metadata": {},
     "output_type": "execute_result"
    },
    {
     "data": {
      "image/png": "[encoded data removed]",
      "text/plain": [
       "<Figure size 1200x600 with 1 Axes>"
      ]
     },
     "metadata": {},
     "output_type": "display_data"
    }
   ],
   "source": [
    "cv_ridge = pd.Series(cv_ridge, index = alphas)\n",
    "cv_ridge.plot(title = \"Validation - Just Do It\")\n",
    "plt.xlabel(\"alpha\")\n",
    "plt.ylabel(\"rmse\")"
   ]
  },
  {
   "cell_type": "code",
   "execution_count": 21,
   "metadata": {},
   "outputs": [
    {
     "data": {
      "application/vnd.plotly.v1+json": {
       "config": {
        "plotlyServerURL": "https://plot.ly"
       },
       "data": [
        {
         "hovertemplate": "variable=0<br>index=%{x}<br>value=%{y}<extra></extra>",
         "legendgroup": "0",
         "line": {
          "color": "#636efa",
          "dash": "solid"
         },
         "marker": {
          "symbol": "circle"
         },
         "mode": "lines",
         "name": "0",
         "orientation": "v",
         "showlegend": true,
         "type": "scatter",
         "x": [
          0.05,
          0.1,
          0.3,
          1,
          3,
          5,
          10,
          15,
          30,
          50,
          75
         ],
         "xaxis": "x",
         "y": [
          0.13893637694024702,
          0.13777538277187912,
          0.1350143361808604,
          0.1313618498939957,
          0.12864892446111886,
          0.1278217968925731,
          0.12733734668670765,
          0.1275294043975381,
          0.12895888148450066,
          0.13099437857191418,
          0.13316366423370246
         ],
         "yaxis": "y"
        }
       ],
       "layout": {
        "legend": {
         "title": {
          "text": "variable"
         },
         "tracegroupgap": 0
        },
        "margin": {
         "t": 60
        },
        "template": {
         "data": {
          "bar": [
           {
            "error_x": {
             "color": "#2a3f5f"
            },
            "error_y": {
             "color": "#2a3f5f"
            },
            "marker": {
             "line": {
              "color": "#E5ECF6",
              "width": 0.5
             },
             "pattern": {
              "fillmode": "overlay",
              "size": 10,
              "solidity": 0.2
             }
            },
            "type": "bar"
           }
          ],
          "barpolar": [
           {
            "marker": {
             "line": {
              "color": "#E5ECF6",
              "width": 0.5
             },
             "pattern": {
              "fillmode": "overlay",
              "size": 10,
              "solidity": 0.2
             }
            },
            "type": "barpolar"
           }
          ],
          "carpet": [
           {
            "aaxis": {
             "endlinecolor": "#2a3f5f",
             "gridcolor": "white",
             "linecolor": "white",
             "minorgridcolor": "white",
             "startlinecolor": "#2a3f5f"
            },
            "baxis": {
             "endlinecolor": "#2a3f5f",
             "gridcolor": "white",
             "linecolor": "white",
             "minorgridcolor": "white",
             "startlinecolor": "#2a3f5f"
            },
            "type": "carpet"
           }
          ],
          "choropleth": [
           {
            "colorbar": {
             "outlinewidth": 0,
             "ticks": ""
            },
            "type": "choropleth"
           }
          ],
          "contour": [
           {
            "colorbar": {
             "outlinewidth": 0,
             "ticks": ""
            },
            "colorscale": [
             [
              0,
              "#0d0887"
             ],
             [
              0.1111111111111111,
              "#46039f"
             ],
             [
              0.2222222222222222,
              "#7201a8"
             ],
             [
              0.3333333333333333,
              "#9c179e"
             ],
             [
              0.4444444444444444,
              "#bd3786"
             ],
             [
              0.5555555555555556,
              "#d8576b"
             ],
             [
              0.6666666666666666,
              "#ed7953"
             ],
             [
              0.7777777777777778,
              "#fb9f3a"
             ],
             [
              0.8888888888888888,
              "#fdca26"
             ],
             [
              1,
              "#f0f921"
             ]
            ],
            "type": "contour"
           }
          ],
          "contourcarpet": [
           {
            "colorbar": {
             "outlinewidth": 0,
             "ticks": ""
            },
            "type": "contourcarpet"
           }
          ],
          "heatmap": [
           {
            "colorbar": {
             "outlinewidth": 0,
             "ticks": ""
            },
            "colorscale": [
             [
              0,
              "#0d0887"
             ],
             [
              0.1111111111111111,
              "#46039f"
             ],
             [
              0.2222222222222222,
              "#7201a8"
             ],
             [
              0.3333333333333333,
              "#9c179e"
             ],
             [
              0.4444444444444444,
              "#bd3786"
             ],
             [
              0.5555555555555556,
              "#d8576b"
             ],
             [
              0.6666666666666666,
              "#ed7953"
             ],
             [
              0.7777777777777778,
              "#fb9f3a"
             ],
             [
              0.8888888888888888,
              "#fdca26"
             ],
             [
              1,
              "#f0f921"
             ]
            ],
            "type": "heatmap"
           }
          ],
          "heatmapgl": [
           {
            "colorbar": {
             "outlinewidth": 0,
             "ticks": ""
            },
            "colorscale": [
             [
              0,
              "#0d0887"
             ],
             [
              0.1111111111111111,
              "#46039f"
             ],
             [
              0.2222222222222222,
              "#7201a8"
             ],
             [
              0.3333333333333333,
              "#9c179e"
             ],
             [
              0.4444444444444444,
              "#bd3786"
             ],
             [
              0.5555555555555556,
              "#d8576b"
             ],
             [
              0.6666666666666666,
              "#ed7953"
             ],
             [
              0.7777777777777778,
              "#fb9f3a"
             ],
             [
              0.8888888888888888,
              "#fdca26"
             ],
             [
              1,
              "#f0f921"
             ]
            ],
            "type": "heatmapgl"
           }
          ],
          "histogram": [
           {
            "marker": {
             "pattern": {
              "fillmode": "overlay",
              "size": 10,
              "solidity": 0.2
             }
            },
            "type": "histogram"
           }
          ],
          "histogram2d": [
           {
            "colorbar": {
             "outlinewidth": 0,
             "ticks": ""
            },
            "colorscale": [
             [
              0,
              "#0d0887"
             ],
             [
              0.1111111111111111,
              "#46039f"
             ],
             [
              0.2222222222222222,
              "#7201a8"
             ],
             [
              0.3333333333333333,
              "#9c179e"
             ],
             [
              0.4444444444444444,
              "#bd3786"
             ],
             [
              0.5555555555555556,
              "#d8576b"
             ],
             [
              0.6666666666666666,
              "#ed7953"
             ],
             [
              0.7777777777777778,
              "#fb9f3a"
             ],
             [
              0.8888888888888888,
              "#fdca26"
             ],
             [
              1,
              "#f0f921"
             ]
            ],
            "type": "histogram2d"
           }
          ],
          "histogram2dcontour": [
           {
            "colorbar": {
             "outlinewidth": 0,
             "ticks": ""
            },
            "colorscale": [
             [
              0,
              "#0d0887"
             ],
             [
              0.1111111111111111,
              "#46039f"
             ],
             [
              0.2222222222222222,
              "#7201a8"
             ],
             [
              0.3333333333333333,
              "#9c179e"
             ],
             [
              0.4444444444444444,
              "#bd3786"
             ],
             [
              0.5555555555555556,
              "#d8576b"
             ],
             [
              0.6666666666666666,
              "#ed7953"
             ],
             [
              0.7777777777777778,
              "#fb9f3a"
             ],
             [
              0.8888888888888888,
              "#fdca26"
             ],
             [
              1,
              "#f0f921"
             ]
            ],
            "type": "histogram2dcontour"
           }
          ],
          "mesh3d": [
           {
            "colorbar": {
             "outlinewidth": 0,
             "ticks": ""
            },
            "type": "mesh3d"
           }
          ],
          "parcoords": [
           {
            "line": {
             "colorbar": {
              "outlinewidth": 0,
              "ticks": ""
             }
            },
            "type": "parcoords"
           }
          ],
          "pie": [
           {
            "automargin": true,
            "type": "pie"
           }
          ],
          "scatter": [
           {
            "fillpattern": {
             "fillmode": "overlay",
             "size": 10,
             "solidity": 0.2
            },
            "type": "scatter"
           }
          ],
          "scatter3d": [
           {
            "line": {
             "colorbar": {
              "outlinewidth": 0,
              "ticks": ""
             }
            },
            "marker": {
             "colorbar": {
              "outlinewidth": 0,
              "ticks": ""
             }
            },
            "type": "scatter3d"
           }
          ],
          "scattercarpet": [
           {
            "marker": {
             "colorbar": {
              "outlinewidth": 0,
              "ticks": ""
             }
            },
            "type": "scattercarpet"
           }
          ],
          "scattergeo": [
           {
            "marker": {
             "colorbar": {
              "outlinewidth": 0,
              "ticks": ""
             }
            },
            "type": "scattergeo"
           }
          ],
          "scattergl": [
           {
            "marker": {
             "colorbar": {
              "outlinewidth": 0,
              "ticks": ""
             }
            },
            "type": "scattergl"
           }
          ],
          "scattermapbox": [
           {
            "marker": {
             "colorbar": {
              "outlinewidth": 0,
              "ticks": ""
             }
            },
            "type": "scattermapbox"
           }
          ],
          "scatterpolar": [
           {
            "marker": {
             "colorbar": {
              "outlinewidth": 0,
              "ticks": ""
             }
            },
            "type": "scatterpolar"
           }
          ],
          "scatterpolargl": [
           {
            "marker": {
             "colorbar": {
              "outlinewidth": 0,
              "ticks": ""
             }
            },
            "type": "scatterpolargl"
           }
          ],
          "scatterternary": [
           {
            "marker": {
             "colorbar": {
              "outlinewidth": 0,
              "ticks": ""
             }
            },
            "type": "scatterternary"
           }
          ],
          "surface": [
           {
            "colorbar": {
             "outlinewidth": 0,
             "ticks": ""
            },
            "colorscale": [
             [
              0,
              "#0d0887"
             ],
             [
              0.1111111111111111,
              "#46039f"
             ],
             [
              0.2222222222222222,
              "#7201a8"
             ],
             [
              0.3333333333333333,
              "#9c179e"
             ],
             [
              0.4444444444444444,
              "#bd3786"
             ],
             [
              0.5555555555555556,
              "#d8576b"
             ],
             [
              0.6666666666666666,
              "#ed7953"
             ],
             [
              0.7777777777777778,
              "#fb9f3a"
             ],
             [
              0.8888888888888888,
              "#fdca26"
             ],
             [
              1,
              "#f0f921"
             ]
            ],
            "type": "surface"
           }
          ],
          "table": [
           {
            "cells": {
             "fill": {
              "color": "#EBF0F8"
             },
             "line": {
              "color": "white"
             }
            },
            "header": {
             "fill": {
              "color": "#C8D4E3"
             },
             "line": {
              "color": "white"
             }
            },
            "type": "table"
           }
          ]
         },
         "layout": {
          "annotationdefaults": {
           "arrowcolor": "#2a3f5f",
           "arrowhead": 0,
           "arrowwidth": 1
          },
          "autotypenumbers": "strict",
          "coloraxis": {
           "colorbar": {
            "outlinewidth": 0,
            "ticks": ""
           }
          },
          "colorscale": {
           "diverging": [
            [
             0,
             "#8e0152"
            ],
            [
             0.1,
             "#c51b7d"
            ],
            [
             0.2,
             "#de77ae"
            ],
            [
             0.3,
             "#f1b6da"
            ],
            [
             0.4,
             "#fde0ef"
            ],
            [
             0.5,
             "#f7f7f7"
            ],
            [
             0.6,
             "#e6f5d0"
            ],
            [
             0.7,
             "#b8e186"
            ],
            [
             0.8,
             "#7fbc41"
            ],
            [
             0.9,
             "#4d9221"
            ],
            [
             1,
             "#276419"
            ]
           ],
           "sequential": [
            [
             0,
             "#0d0887"
            ],
            [
             0.1111111111111111,
             "#46039f"
            ],
            [
             0.2222222222222222,
             "#7201a8"
            ],
            [
             0.3333333333333333,
             "#9c179e"
            ],
            [
             0.4444444444444444,
             "#bd3786"
            ],
            [
             0.5555555555555556,
             "#d8576b"
            ],
            [
             0.6666666666666666,
             "#ed7953"
            ],
            [
             0.7777777777777778,
             "#fb9f3a"
            ],
            [
             0.8888888888888888,
             "#fdca26"
            ],
            [
             1,
             "#f0f921"
            ]
           ],
           "sequentialminus": [
            [
             0,
             "#0d0887"
            ],
            [
             0.1111111111111111,
             "#46039f"
            ],
            [
             0.2222222222222222,
             "#7201a8"
            ],
            [
             0.3333333333333333,
             "#9c179e"
            ],
            [
             0.4444444444444444,
             "#bd3786"
            ],
            [
             0.5555555555555556,
             "#d8576b"
            ],
            [
             0.6666666666666666,
             "#ed7953"
            ],
            [
             0.7777777777777778,
             "#fb9f3a"
            ],
            [
             0.8888888888888888,
             "#fdca26"
            ],
            [
             1,
             "#f0f921"
            ]
           ]
          },
          "colorway": [
           "#636efa",
           "#EF553B",
           "#00cc96",
           "#ab63fa",
           "#FFA15A",
           "#19d3f3",
           "#FF6692",
           "#B6E880",
           "#FF97FF",
           "#FECB52"
          ],
          "font": {
           "color": "#2a3f5f"
          },
          "geo": {
           "bgcolor": "white",
           "lakecolor": "white",
           "landcolor": "#E5ECF6",
           "showlakes": true,
           "showland": true,
           "subunitcolor": "white"
          },
          "hoverlabel": {
           "align": "left"
          },
          "hovermode": "closest",
          "mapbox": {
           "style": "light"
          },
          "paper_bgcolor": "white",
          "plot_bgcolor": "#E5ECF6",
          "polar": {
           "angularaxis": {
            "gridcolor": "white",
            "linecolor": "white",
            "ticks": ""
           },
           "bgcolor": "#E5ECF6",
           "radialaxis": {
            "gridcolor": "white",
            "linecolor": "white",
            "ticks": ""
           }
          },
          "scene": {
           "xaxis": {
            "backgroundcolor": "#E5ECF6",
            "gridcolor": "white",
            "gridwidth": 2,
            "linecolor": "white",
            "showbackground": true,
            "ticks": "",
            "zerolinecolor": "white"
           },
           "yaxis": {
            "backgroundcolor": "#E5ECF6",
            "gridcolor": "white",
            "gridwidth": 2,
            "linecolor": "white",
            "showbackground": true,
            "ticks": "",
            "zerolinecolor": "white"
           },
           "zaxis": {
            "backgroundcolor": "#E5ECF6",
            "gridcolor": "white",
            "gridwidth": 2,
            "linecolor": "white",
            "showbackground": true,
            "ticks": "",
            "zerolinecolor": "white"
           }
          },
          "shapedefaults": {
           "line": {
            "color": "#2a3f5f"
           }
          },
          "ternary": {
           "aaxis": {
            "gridcolor": "white",
            "linecolor": "white",
            "ticks": ""
           },
           "baxis": {
            "gridcolor": "white",
            "linecolor": "white",
            "ticks": ""
           },
           "bgcolor": "#E5ECF6",
           "caxis": {
            "gridcolor": "white",
            "linecolor": "white",
            "ticks": ""
           }
          },
          "title": {
           "x": 0.05
          },
          "xaxis": {
           "automargin": true,
           "gridcolor": "white",
           "linecolor": "white",
           "ticks": "",
           "title": {
            "standoff": 15
           },
           "zerolinecolor": "white",
           "zerolinewidth": 2
          },
          "yaxis": {
           "automargin": true,
           "gridcolor": "white",
           "linecolor": "white",
           "ticks": "",
           "title": {
            "standoff": 15
           },
           "zerolinecolor": "white",
           "zerolinewidth": 2
          }
         }
        },
        "xaxis": {
         "anchor": "y",
         "domain": [
          0,
          1
         ],
         "title": {
          "text": "index"
         }
        },
        "yaxis": {
         "anchor": "x",
         "domain": [
          0,
          1
         ],
         "title": {
          "text": "value"
         }
        }
       }
      }
     },
     "metadata": {},
     "output_type": "display_data"
    }
   ],
   "source": [
    "px.line(cv_ridge)"
   ]
  },
  {
   "cell_type": "code",
   "execution_count": null,
   "metadata": {},
   "outputs": [],
   "source": []
  }
 ],
 "metadata": {
  "kernelspec": {
   "display_name": "base",
   "language": "python",
   "name": "python3"
  },
  "language_info": {
   "codemirror_mode": {
    "name": "ipython",
    "version": 3
   },
   "file_extension": ".py",
   "mimetype": "text/x-python",
   "name": "python",
   "nbconvert_exporter": "python",
   "pygments_lexer": "ipython3",
   "version": "3.9.16"
  },
  "orig_nbformat": 4,
  "vscode": {
   "interpreter": {
    "hash": "918b1ad3a855bcadeaeb6b6de2a9ab3a7081e096a2a1b924234c698ba578205e"
   }
  }
 },
 "nbformat": 4,
 "nbformat_minor": 2
}
