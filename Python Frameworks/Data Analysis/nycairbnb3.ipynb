{
 "cells": [
  {
   "cell_type": "code",
   "execution_count": null,
   "metadata": {},
   "outputs": [],
   "source": []
  }
 ],
 "metadata": {
  "kernelspec": {
   "display_name": "base",
   "language": "python",
   "name": "python3"
  },
  "language_info": {
   "name": "python",
   "version": "3.9.16"
  },
  "orig_nbformat": 4,
  "vscode": {
   "interpreter": {
    "hash": "918b1ad3a855bcadeaeb6b6de2a9ab3a7081e096a2a1b924234c698ba578205e"
   }
  }
 },
 "nbformat": 4,
 "nbformat_minor": 2
}
